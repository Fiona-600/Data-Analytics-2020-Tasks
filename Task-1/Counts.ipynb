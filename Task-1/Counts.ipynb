{
 "cells": [
  {
   "cell_type": "markdown",
   "metadata": {},
   "source": [
    "#### Prepared by: Fiona Lee - October 2020\n",
    "#### Higher Diploma in Science - Data Analytics 2020/21"
   ]
  },
  {
   "cell_type": "markdown",
   "metadata": {},
   "source": [
    "### Fundamentals of Data Analysis - Task 1:\n",
    "\n",
    "Write a python function that takes a list as an input and outputs a dictionary of unique items in the list as keys and the number of times each item appears as values."
   ]
  },
  {
   "cell_type": "markdown",
   "metadata": {},
   "source": [
    "### Approach:\n",
    "\n",
    "My approach to this task was to firstly research various methods which produced the required output and to determine the most efficient methods.  I took the methods from the sites referenced below and modified the code to take the following list as an input and to standardise the use of keywords below for consistency:\n",
    "\n",
    "List = [123, 1, 2, 3 ,'it','was','#', 'a', 'b', 'c', 1 , 2]\n",
    "\n",
    "Key words:\n",
    "\n",
    "- 'List' to denote the input list\n",
    "- 'Frequency' to denote the occurences of the unique item in the list\n",
    "- 'Count' stores the variable value of 'Frequency'\n",
    "- 'Counter' marks variables as already counted or visited in the loop"
   ]
  },
  {
   "cell_type": "markdown",
   "metadata": {},
   "source": [
    "### Software Used:¶\n",
    "\n",
    "I used Python version 3.8.3 and Jupyter Notebook version 6.0.3 in this task.\n"
   ]
  },
  {
   "cell_type": "markdown",
   "metadata": {},
   "source": [
    "### Conclusion:\n",
    "I concluded that method 1 was the most efficient method to produce the desired outcome but all 3 methods were effective."
   ]
  },
  {
   "cell_type": "markdown",
   "metadata": {},
   "source": [
    "-----------------------------------------------------------------------------------------------------"
   ]
  },
  {
   "cell_type": "markdown",
   "metadata": {},
   "source": [
    "## Method 1: Simple Method using Count () \n",
    "\n",
    "#### The following sources were referred to:\n",
    "\n",
    "https://programminghistorian.org/en/lessons/counting-frequencies\n",
    "    "
   ]
  },
  {
   "cell_type": "code",
   "execution_count": 2,
   "metadata": {},
   "outputs": [
    {
     "name": "stdout",
     "output_type": "stream",
     "text": [
      "RESULT:\n",
      "\n",
      "OPTION 1: Show List and Frequencies Separately:\n",
      "\n",
      "List:\n",
      "[123, 1, 2, 3, 'it', 'was', '#', 'a', 'b', 'c', 1, 2]\n",
      "\n",
      "Frequencies:\n",
      "[1, 2, 2, 1, 1, 1, 1, 1, 1, 1, 2, 2]\n",
      "\n",
      "\n",
      "OPTION 2: Show List and Frequencies as pairs:\n",
      "\n",
      "The number of occurences of each character:\n",
      "\n",
      "--------------------------------------------------------------------------------------------------\n",
      "\n",
      "[(123, 1), (1, 2), (2, 2), (3, 1), ('it', 1), ('was', 1), ('#', 1), ('a', 1), ('b', 1), ('c', 1), (1, 2), (2, 2)]\n",
      "\n",
      "--------------------------------------------------------------------------------------------------\n"
     ]
    }
   ],
   "source": [
    "List = [123, 1, 2, 3 ,'it','was','#', 'a', 'b', 'c' ,1 , 2]\n",
    "\n",
    "Frequency = []\n",
    "for i in List:\n",
    "    Frequency.append(List.count(i))\n",
    "\n",
    "#Displays the frequency of each element present in List:   \n",
    "print (\"RESULT:\")\n",
    "print (\"\")\n",
    "print (\"OPTION 1: Show List and Frequencies Separately:\")\n",
    "print (\"\")\n",
    "print(\"List:\\n\" + str(List) + \"\\n\")\n",
    "print(\"Frequencies:\\n\" + str(Frequency) + \"\\n\")\n",
    "print (\"\")\n",
    "print (\"OPTION 2: Show List and Frequencies as pairs:\")\n",
    "print (\"\")\n",
    "print(\"The number of occurences of each character:\\n\")\n",
    "print (\"--------------------------------------------------------------------------------------------------\")\n",
    "print (\"\")\n",
    "print (str (list (zip (List, Frequency))))\n",
    "print (\"\")\n",
    "print (\"--------------------------------------------------------------------------------------------------\")\n"
   ]
  },
  {
   "cell_type": "markdown",
   "metadata": {},
   "source": [
    "## Commentary: \n",
    "This method was the cleanest of all the methods explored to produce the frequency of each element in a list.  This method will count the frequency of numbers, letters, words and characters in a list.\n",
    "\n",
    "## Limitations:\n",
    "1. Characters and Letters must be listed in \"\" to be counted.  Otherwise characters and letters are 'name not  defined'.\n",
    "2. This method takes the unique character as the item in the list e.g. '123', 'was' etc. and not the recurrance of each recurring number or character.\n"
   ]
  },
  {
   "cell_type": "markdown",
   "metadata": {},
   "source": [
    "------------------------------------------------------------------------------------------------------"
   ]
  },
  {
   "cell_type": "markdown",
   "metadata": {},
   "source": [
    "## Method 2: Using a nested 'for' loop to run through the list\n",
    "The following sources were referred to:\n",
    "\n",
    "https://www.javatpoint.com/python-program-to-find-the-frequency-of-each-element-in-the-array"
   ]
  },
  {
   "cell_type": "code",
   "execution_count": 1,
   "metadata": {},
   "outputs": [
    {
     "name": "stdout",
     "output_type": "stream",
     "text": [
      "\n",
      "RESULT:\n",
      "\n",
      "--------------------------\n",
      " Element     |   Frequency\n",
      "--------------------------\n",
      "    123      |     1\n",
      "      1      |     2\n",
      "      2      |     2\n",
      "      3      |     1\n",
      "     it      |     1\n",
      "    was      |     1\n",
      "      #      |     1\n",
      "      a      |     1\n",
      "      b      |     1\n",
      "      c      |     1\n",
      "--------------------------\n"
     ]
    }
   ],
   "source": [
    "# Define the List: \n",
    "List = [123, 1, 2, 3 ,'it','was','#', 'a', 'b', 'c' , 1 , 2];  \n",
    "\n",
    "# Array 'Frequency' will store frequencies/count of each element \n",
    "# Loop through the array and count the occurrence of each element as frequency and store it in another array fr. \n",
    "\n",
    "Frequency = [None] * len (List);\n",
    "\n",
    "# Variable 'counter' will be initialized with the value -1. \n",
    "# (Required to mark an element visited to avoid counting the same element again)\n",
    "counter = -1;    \n",
    "    \n",
    "# The frequency of an element can be counted using two loops. \n",
    "    # Loop 1 - Selects an element from an array.\n",
    "    # Loop 2 - Compares the selected element with the rest of the array.   \n",
    "\n",
    "#Loop 1:\n",
    "for i in range(0, len (List)):   \n",
    "    \n",
    "    # Initialize count to 1 in the Loop 1 to maintain a count of each element: \n",
    "    count = 1; \n",
    "        \n",
    "    # Loop 2:\n",
    "    for j in range(i + 1, len (List)): \n",
    "              \n",
    "        # Increment the value of 'count' by 1 if a duplicate element is found in the Loop 2 since we have counted \n",
    "        # this element and didn't want to count it again: \n",
    "        if (List[i] == List[j]):    \n",
    "            count = count + 1;    \n",
    "  \n",
    "            # Mark this element as visited by setting 'Frequency [j]' = counter to avoid counting same element again:  \n",
    "            Frequency [j] = counter;    \n",
    "\n",
    "    #Store count of each element to 'Frequency':\n",
    "    if (Frequency [i] != counter):    \n",
    "        Frequency [i] = count;    \n",
    "         \n",
    "#Display the frequency of each element present in 'List': \n",
    "print (\"\")\n",
    "print (\"RESULT:\")\n",
    "print (\"\")\n",
    "print (\"--------------------------\");    \n",
    "print (\" Element     |   Frequency\");    \n",
    "print (\"--------------------------\");    \n",
    "\n",
    "for i in range(0, len(Frequency)):    \n",
    "    if (Frequency [i] != counter):    \n",
    "        print((\"    \" + str (List[i]        ).rjust(3)) + \"      |    \" + str(Frequency [i]).rjust(2));    \n",
    "\n",
    "print(\"--------------------------\");    "
   ]
  },
  {
   "cell_type": "markdown",
   "metadata": {},
   "source": [
    "## Commentary: \n",
    "The format of this output is cleaner, but it is a more complicated method to produce the same result as Method 1. I added 'rjust ()' to the the original solution in order to improve the presentation of the final output and changed the variables and applied to 'List' above for consistency.\n",
    "\n",
    "This method will count the frequency of numbers, letters, words and characters in a list.\n",
    "\n",
    "## Limitations:\n",
    "As in method 1, characters and letters must be listed in ' ' to be counted and the method counts elements and not individual characters."
   ]
  },
  {
   "cell_type": "markdown",
   "metadata": {},
   "source": [
    "------------------------------------------------------------------------------------------------------"
   ]
  },
  {
   "cell_type": "markdown",
   "metadata": {},
   "source": [
    "## Method 3: Using dictionary method keys ()\n",
    "\n",
    "The following sources were referred to:\n",
    "\n",
    "https://stackoverflow.com/questions/24878174/how-to-count-digits-letters-spaces-for-a-string-in-python"
   ]
  },
  {
   "cell_type": "code",
   "execution_count": 2,
   "metadata": {},
   "outputs": [
    {
     "name": "stdout",
     "output_type": "stream",
     "text": [
      "\n",
      "The number of occurences of each character:\n",
      "\n",
      "--------------------------------------------------------------------------------------------------\n",
      "\n",
      "{123: 1, 1: 2, 2: 2, 3: 1, 'it': 1, 'was': 1, '#': 1, 'a': 1, 'b': 1, 'c': 1}\n",
      "\n",
      "--------------------------------------------------------------------------------------------------\n"
     ]
    }
   ],
   "source": [
    "List = [123, 1, 2, 3 ,'it','was','#', 'a', 'b', 'c' , 1 , 2]\n",
    "\n",
    "\n",
    "def Frequency (List):\n",
    "\n",
    "    dict = {}\n",
    "    for i in List:\n",
    "        keys = dict.keys ()\n",
    "        if i in keys:\n",
    "            dict[i] += 1\n",
    "        else:\n",
    "            dict[i] = 1\n",
    "    return dict\n",
    "\n",
    "print (\"\")\n",
    "print(\"The number of occurences of each character:\\n\")\n",
    "print (\"--------------------------------------------------------------------------------------------------\")\n",
    "print (\"\")\n",
    "print(Frequency(List))\n",
    "print (\"\")\n",
    "print (\"--------------------------------------------------------------------------------------------------\")\n"
   ]
  },
  {
   "cell_type": "markdown",
   "metadata": {},
   "source": [
    "## Commentary: \n",
    "Method 3 produces a similar result to method 1 & 2 using a dictionary.   \n",
    "\n",
    "This method will count the frequency of numbers, letters, words and characters in a list.\n",
    "\n",
    "## Limitations:\n",
    "As in method 1 & 2, characters and letters must be listed in ' ' to be counted and the method counts elements and not individual characters."
   ]
  },
  {
   "cell_type": "markdown",
   "metadata": {},
   "source": [
    "------------------------------------------------------------------------------------------------------"
   ]
  },
  {
   "cell_type": "code",
   "execution_count": null,
   "metadata": {},
   "outputs": [],
   "source": []
  },
  {
   "cell_type": "code",
   "execution_count": null,
   "metadata": {},
   "outputs": [],
   "source": []
  },
  {
   "cell_type": "code",
   "execution_count": null,
   "metadata": {},
   "outputs": [],
   "source": []
  },
  {
   "cell_type": "code",
   "execution_count": null,
   "metadata": {},
   "outputs": [],
   "source": []
  }
 ],
 "metadata": {
  "kernelspec": {
   "display_name": "Python 3",
   "language": "python",
   "name": "python3"
  },
  "language_info": {
   "codemirror_mode": {
    "name": "ipython",
    "version": 3
   },
   "file_extension": ".py",
   "mimetype": "text/x-python",
   "name": "python",
   "nbconvert_exporter": "python",
   "pygments_lexer": "ipython3",
   "version": "3.8.3"
  }
 },
 "nbformat": 4,
 "nbformat_minor": 4
}
