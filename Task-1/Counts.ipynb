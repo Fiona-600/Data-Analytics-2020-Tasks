{
 "cells": [
  {
   "cell_type": "markdown",
   "metadata": {},
   "source": [
    "#### Prepared by: Fiona Lee - October 2020\n",
    "#### Higher Diploma in Science - Data Analytics 2020/21"
   ]
  },
  {
   "cell_type": "markdown",
   "metadata": {},
   "source": [
    "### Fundamentals of Data Analysis - Task 1:\n",
    "\n",
    "Write a python function that takes a list as an input and outputs a dictionary of unique items in the list as keys and the number of times each item appears as values."
   ]
  },
  {
   "cell_type": "markdown",
   "metadata": {},
   "source": [
    "### Approach:\n",
    "\n",
    "My approach to this task was to firstly research various methods which produced the required output and to determine the most efficient methods.  I took the methods from the sites referenced below and modified the code to take the following list as an input and to standardise the use of keywords below for consistency:\n",
    "\n",
    "List = [123, 1, 2, 3 ,'it','was','#', 'a', 'b', 'c', 1 , 2]\n",
    "\n",
    "Key words:\n",
    "\n",
    "- 'List' to denote the input list\n",
    "- 'Frequency' to denote the occurences of the unique item in the list\n",
    "- 'Count' stores the variable value of 'Frequency'\n",
    "- 'Counter' marks variables as already counted or visited in the loop"
   ]
  },
  {
   "cell_type": "markdown",
   "metadata": {},
   "source": [
    "### Software Used:¶\n",
    "\n",
    "I used Python version 3.8.3 and Jupyter Notebook version 6.0.3 in this task.\n"
   ]
  },
  {
   "cell_type": "markdown",
   "metadata": {},
   "source": [
    "### Conclusion:\n",
    "I concluded that method 1 was the most efficient method to produce the desired outcome but all 3 methods were effective."
   ]
  },
  {
   "cell_type": "markdown",
   "metadata": {},
   "source": [
    "-----------------------------------------------------------------------------------------------------"
   ]
  },
  {
   "cell_type": "markdown",
   "metadata": {},
   "source": [
    "------------------------------------------------------------------------------------------------------"
   ]
  },
  {
   "cell_type": "markdown",
   "metadata": {},
   "source": [
    "------------------------------------------------------------------------------------------------------"
   ]
  },
  {
   "cell_type": "markdown",
   "metadata": {},
   "source": [
    "------------------------------------------------------------------------------------------------------"
   ]
  },
  {
   "cell_type": "code",
   "execution_count": null,
   "metadata": {},
   "outputs": [],
   "source": []
  }
 ],
 "metadata": {
  "kernelspec": {
   "display_name": "Python 3",
   "language": "python",
   "name": "python3"
  },
  "language_info": {
   "codemirror_mode": {
    "name": "ipython",
    "version": 3
   },
   "file_extension": ".py",
   "mimetype": "text/x-python",
   "name": "python",
   "nbconvert_exporter": "python",
   "pygments_lexer": "ipython3",
   "version": "3.8.3"
  }
 },
 "nbformat": 4,
 "nbformat_minor": 4
}
