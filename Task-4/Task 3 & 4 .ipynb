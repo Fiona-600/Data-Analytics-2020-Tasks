{
 "cells": [
  {
   "cell_type": "markdown",
   "metadata": {},
   "source": [
    "### Task Instructions:\n",
    "\n",
    "The numpy.random.binomial function can be used to simulate flipping a coin with a 50/50 chance of heads or tails.  Interestingly, if a coin is flipped many times then the number of heads is well approximated by a bell-shaped curve.  For instance, if we flip a coin 100 times in a row the chance of getting 50 heads is relatively high, the chances of getting 0 or 100 heads is relatively low, and the chances of getting any other number of heads decreases as you move away from 50 in either direction towards 0 or 100.  \n",
    "\n",
    "#### Instructions:\n",
    "\n",
    "1. Write some python code that simulates flipping a coin 100 times.  \n",
    "2. Then run this code 1,000 times, keeping track of  the  number  of  heads  in  each  of  the  1,000  simulations.   \n",
    "3. Select  an  appropriate plot to depict the resulting list of 1,000 numbers, showing that it roughly follows a bell-shaped curve.  \n",
    "\n",
    "   (You should explain your work in a Markdown cell above the code)"
   ]
  },
  {
   "cell_type": "markdown",
   "metadata": {},
   "source": [
    "#### Import the modules for the assignment\n",
    "***"
   ]
  },
  {
   "cell_type": "code",
   "execution_count": 1,
   "metadata": {
    "scrolled": true
   },
   "outputs": [],
   "source": [
    "import numpy as np\n",
    "import matplotlib.pyplot as plt\n",
    "import random\n",
    "import seaborn as sns"
   ]
  },
  {
   "cell_type": "markdown",
   "metadata": {},
   "source": [
    "#### np.random.binomial(n, p, size)\n",
    "***\n",
    "\n",
    "n = number of trials in a single round or experiment\n",
    "\n",
    "p = Probability of success or failure\n",
    "\n",
    "size = number of rounds or experiments\n",
    "\n"
   ]
  },
  {
   "cell_type": "markdown",
   "metadata": {},
   "source": [
    "Mathematically, a coin toss experiment can be thought of a binomial experiment, where we have a coin with probability of getting head as success at each coin toss is p. In a binomial experiment, given n and p, we toss the coin n times and we are interested in the number of heads/successes we will get."
   ]
  },
  {
   "cell_type": "markdown",
   "metadata": {},
   "source": [
    "#### Coin Toss Assumptions\n",
    "***\n",
    "\n",
    "- The coin is fair i.e. there is a 50/50 chance that the result will be heads or tails i.e. p = 0.5.  The coin can be biased by changing the probability \n",
    "- If head is tossed, the result will be 1 (Success)\n",
    "- If tail is tossed, the result will be 0 (Fail)"
   ]
  },
  {
   "cell_type": "markdown",
   "metadata": {},
   "source": [
    "#### Coin Toss Experiment using random.binomial ():\n",
    "<BR>"
   ]
  },
  {
   "cell_type": "markdown",
   "metadata": {},
   "source": [
    "#### Simulate 1000 rounds of coin tosses of 100 coins per round\n",
    "***"
   ]
  },
  {
   "cell_type": "code",
   "execution_count": 2,
   "metadata": {
    "scrolled": true
   },
   "outputs": [
    {
     "name": "stdout",
     "output_type": "stream",
     "text": [
      "\n",
      "Summary results of each round of 100 coin tosses repeated 1000 times by random.binomial():\n",
      "\n",
      " [52 47 52 51 53 52 46 45 53 51 50 41 51 46 48 60 44 49 48 54 45 52 43 47\n",
      " 48 46 60 46 56 40 54 47 50 44 54 56 45 52 42 52 60 45 52 50 48 40 50 46\n",
      " 56 56 41 46 50 50 48 46 43 46 48 49 50 53 47 48 47 48 49 54 48 48 54 48\n",
      " 60 53 49 52 48 42 57 50 46 49 56 45 51 48 47 47 42 49 50 38 54 55 50 50\n",
      " 41 47 56 56 49 55 54 49 53 47 53 54 48 46 50 56 49 41 46 56 53 54 45 56\n",
      " 47 47 40 52 53 52 54 47 47 55 51 59 45 52 48 47 55 58 52 50 42 44 51 42\n",
      " 43 56 55 49 45 59 51 48 53 45 51 57 45 54 46 49 55 47 56 49 59 50 54 57\n",
      " 52 47 49 44 48 51 42 47 52 54 52 54 50 55 46 57 51 50 50 37 54 55 56 48\n",
      " 50 54 52 49 50 50 46 49 50 44 51 55 47 48 54 49 61 55 58 55 44 52 43 53\n",
      " 44 56 56 47 56 48 48 53 40 51 55 59 51 52 43 50 48 45 50 42 57 51 50 51\n",
      " 39 50 44 58 44 58 60 58 48 43 39 48 43 59 52 53 45 55 53 55 55 56 49 48\n",
      " 40 48 55 50 48 51 51 50 51 47 62 55 55 51 52 55 56 52 50 54 50 48 56 48\n",
      " 44 40 49 60 47 53 43 49 57 49 55 56 54 45 51 53 47 43 46 44 47 39 50 46\n",
      " 43 40 55 48 48 46 52 51 47 54 47 52 50 49 51 50 42 61 51 52 52 48 52 37\n",
      " 52 45 41 57 45 50 50 49 42 48 45 50 51 46 51 42 40 49 48 34 42 47 46 60\n",
      " 46 51 40 50 57 45 52 39 44 47 39 48 46 49 53 46 51 45 60 47 47 58 55 47\n",
      " 49 56 56 48 44 47 53 50 52 47 53 52 49 50 49 57 49 47 43 51 54 49 51 49\n",
      " 41 50 55 60 50 48 49 44 48 47 49 64 54 43 47 43 48 48 51 40 56 53 46 40\n",
      " 47 53 47 55 53 45 49 44 50 55 50 49 51 53 46 50 56 45 54 52 56 56 46 36\n",
      " 54 50 49 45 51 46 52 44 44 51 55 49 51 42 45 54 47 53 42 43 55 56 48 59\n",
      " 52 55 50 45 46 59 50 47 49 49 43 46 39 57 46 48 45 55 58 51 37 49 53 51\n",
      " 43 50 53 54 59 64 59 53 46 57 61 47 47 52 49 57 50 59 47 58 53 55 49 51\n",
      " 54 44 46 52 38 44 54 59 50 46 48 51 48 59 51 53 46 46 49 50 56 50 53 49\n",
      " 45 51 51 49 45 46 47 52 51 47 49 48 60 46 47 49 51 51 51 46 49 41 43 49\n",
      " 47 44 52 53 45 59 56 49 56 48 38 55 53 50 52 49 51 50 49 47 45 52 45 53\n",
      " 59 54 59 41 49 41 57 55 48 47 52 42 51 49 53 47 49 55 46 47 50 52 46 49\n",
      " 52 45 48 49 42 52 63 48 46 43 50 50 47 53 52 56 53 51 59 51 56 50 58 62\n",
      " 50 42 45 47 46 52 53 43 50 50 47 50 49 48 59 55 55 54 39 46 43 48 51 44\n",
      " 56 50 50 60 53 55 49 44 43 54 50 54 58 53 54 53 49 58 54 57 53 45 49 53\n",
      " 50 50 47 45 53 50 53 53 51 53 57 53 56 51 47 48 52 48 55 44 44 52 53 51\n",
      " 50 54 45 46 48 49 53 50 47 51 46 51 53 63 52 45 53 48 50 44 40 53 51 54\n",
      " 50 49 54 54 56 55 56 48 60 46 41 41 45 57 51 40 51 54 50 58 57 54 54 50\n",
      " 46 56 49 47 62 48 47 51 47 51 51 49 50 43 49 51 50 42 47 50 47 50 47 44\n",
      " 44 53 51 51 55 49 50 53 50 48 40 50 54 44 50 47 52 51 37 53 46 46 44 40\n",
      " 51 56 53 52 45 50 56 56 47 48 52 57 53 60 50 42 55 58 51 51 48 51 46 52\n",
      " 47 52 46 53 53 54 55 44 59 35 47 49 55 51 48 48 55 49 53 58 50 54 43 58\n",
      " 45 44 52 55 61 47 52 50 48 39 51 49 61 50 57 47 48 56 46 48 49 51 52 58\n",
      " 60 45 49 54 54 47 42 50 49 54 59 51 52 43 50 44 44 39 61 49 50 50 40 52\n",
      " 49 51 59 50 49 40 50 45 42 55 55 52 52 55 51 50 59 53 46 48 55 49 47 65\n",
      " 53 49 55 47 45 47 41 51 42 40 51 47 54 50 41 43 45 56 47 48 36 63 44 53\n",
      " 47 52 60 51 44 43 46 44 49 43 56 51 47 54 55 52 52 51 46 49 52 44 53 59\n",
      " 55 45 44 52 51 50 52 49 45 49 48 47 53 52 48 54]\n"
     ]
    }
   ],
   "source": [
    "np.random.seed(1)# set the seed if I want the same random selection every time\n",
    "n = 100 # Number of coin tosses (trials)\n",
    "p = 0.5 # Probability of rolling heads\n",
    "size = 1000 # Repeat our experiment 1000 times (repetitions)\n",
    "r = np.random.binomial(n,p,size)\n",
    "print (\"\\nSummary results of each round of\",n,\"coin tosses repeated\",size, \"times by random.binomial():\\n\\n\",r )\n"
   ]
  },
  {
   "cell_type": "markdown",
   "metadata": {},
   "source": [
    "<BR>"
   ]
  },
  {
   "cell_type": "code",
   "execution_count": 3,
   "metadata": {},
   "outputs": [
    {
     "name": "stdout",
     "output_type": "stream",
     "text": [
      "\n",
      "Summary of Results:\n",
      "\n"
     ]
    },
    {
     "ename": "NameError",
     "evalue": "name 'Counter' is not defined",
     "output_type": "error",
     "traceback": [
      "\u001b[1;31m---------------------------------------------------------------------------\u001b[0m",
      "\u001b[1;31mNameError\u001b[0m                                 Traceback (most recent call last)",
      "\u001b[1;32m<ipython-input-3-96786435f644>\u001b[0m in \u001b[0;36m<module>\u001b[1;34m\u001b[0m\n\u001b[0;32m      1\u001b[0m \u001b[0mprint\u001b[0m\u001b[1;33m(\u001b[0m\u001b[1;34m\"\\nSummary of Results:\\n\"\u001b[0m\u001b[1;33m)\u001b[0m\u001b[1;33m\u001b[0m\u001b[1;33m\u001b[0m\u001b[0m\n\u001b[1;32m----> 2\u001b[1;33m \u001b[0mprint\u001b[0m\u001b[1;33m(\u001b[0m\u001b[0mdict\u001b[0m\u001b[1;33m(\u001b[0m\u001b[0mCounter\u001b[0m\u001b[1;33m(\u001b[0m\u001b[0msorted\u001b[0m\u001b[1;33m(\u001b[0m\u001b[0mr\u001b[0m\u001b[1;33m)\u001b[0m\u001b[1;33m)\u001b[0m\u001b[1;33m)\u001b[0m\u001b[1;33m,\u001b[0m\u001b[1;34m\"\\n\"\u001b[0m\u001b[1;33m)\u001b[0m\u001b[1;31m#Count the frequency of each age sampled\u001b[0m\u001b[1;33m\u001b[0m\u001b[1;33m\u001b[0m\u001b[0m\n\u001b[0m",
      "\u001b[1;31mNameError\u001b[0m: name 'Counter' is not defined"
     ]
    }
   ],
   "source": [
    "print(\"\\nSummary of Results:\\n\")\n",
    "print(dict(Counter(sorted(r))),\"\\n\")#Count the frequency of each age sampled"
   ]
  },
  {
   "cell_type": "markdown",
   "metadata": {
    "scrolled": true
   },
   "source": [
    "#### Test the Output - random.binomial ()\n",
    "***"
   ]
  },
  {
   "cell_type": "code",
   "execution_count": null,
   "metadata": {
    "scrolled": true
   },
   "outputs": [],
   "source": [
    "print(\"\")\n",
    "print(\"SUMMARY RESULTS OF THE COIN TOSS EXPERIMENT:\")\n",
    "print (\"\\nThe number of heads and tails tossed using random.binomial in\",size,\"rounds of\",n,\"coin tosses is:\")\n",
    "print(\"\")\n",
    "#print(f' \\nHeads were tossed {sum(r) times (round((sum(r)/(size*n))*100,2) %'):3}   Tails = {((size * n) - sum(r))}') # Print summary of results\n",
    "print (f\"Heads were tossed {sum(r)} times out of {n* size} coin tosses i.e. {(round((sum(r)/(size*n))*100,2))} %\\n\")\n",
    "print (f\"Tails were tossed {(n*size-sum(r))} times out of {n* size} coin tosses i.e. {(round(((n*size-sum(r))/(size*n))*100,2))} %\\n\")"
   ]
  },
  {
   "cell_type": "markdown",
   "metadata": {},
   "source": [
    "#### Plotting the Result\n",
    "***"
   ]
  },
  {
   "cell_type": "code",
   "execution_count": null,
   "metadata": {},
   "outputs": [],
   "source": [
    "sns.distplot(r,color = 'blue', hist = False, kde=1)\n",
    "plt.xticks([0, 10, 20, 30,40,50,60,70,80,90,100])\n",
    "plt.title ('\\nFrequency of Heads in a Coin Toss Sample\\n',fontsize=14)\n",
    "plt.xlabel('\\nNumber of Heads',fontsize=14)\n",
    "plt.ylabel('Distribution\\n',fontsize=14)\n",
    "plt.grid(True)\n",
    "plt.show();"
   ]
  },
  {
   "cell_type": "markdown",
   "metadata": {},
   "source": [
    "#### Conclusion:\n",
    "***"
   ]
  },
  {
   "cell_type": "markdown",
   "metadata": {},
   "source": [
    "1. The experiment chose heads and tails equally to a low margin of error.\n",
    "2. The most likely result was between 49 and 51 'heads' out of 100 based on 1000 repetitions.\n",
    "3. The result follows a bell shaped curve as expected when random.binomial is used as to simulate the results."
   ]
  },
  {
   "cell_type": "markdown",
   "metadata": {},
   "source": [
    "<BR>"
   ]
  },
  {
   "cell_type": "markdown",
   "metadata": {},
   "source": [
    "#### Coin Toss Experiment using random.randint ():\n",
    "<BR>"
   ]
  },
  {
   "cell_type": "markdown",
   "metadata": {},
   "source": [
    "#### Simulate 1000 rounds of coin tosses of 100 coins per round\n",
    "***"
   ]
  },
  {
   "cell_type": "code",
   "execution_count": null,
   "metadata": {
    "scrolled": true
   },
   "outputs": [],
   "source": [
    "#Method 1:\n",
    "#import random\n",
    "print(\"\\nSummary results of each round of 100 coin tosses repeated 1000 times by random.randint():\\n\")\n",
    "print([sum([random.randint(0,1) for i in range(100)]) for j in range(1000)])\n"
   ]
  },
  {
   "cell_type": "markdown",
   "metadata": {},
   "source": [
    "<BR>"
   ]
  },
  {
   "cell_type": "code",
   "execution_count": null,
   "metadata": {
    "scrolled": true
   },
   "outputs": [],
   "source": [
    "#Method 2:\n",
    "n1 = 100\n",
    "k = 1000\n",
    "print (\"\\nDETAILED RESULTS BY ROUND:\")\n",
    "\n",
    "running_total = 0\n",
    "List = []\n",
    "for coin_toss in range (1,(k+1)):\n",
    "    r1 = (np.random.randint (0, 2, size = 100))\n",
    "    running_total = running_total + r1\n",
    "    List.append (sum((r1)))\n",
    "    print(f' \\nRound{coin_toss:5}:  Heads = {sum(r1):3}   Tails = {n1-sum(r1):3}')\n",
    "    print(\"\\n\",str(r1))\n",
    "    "
   ]
  },
  {
   "cell_type": "markdown",
   "metadata": {},
   "source": [
    "<BR>"
   ]
  },
  {
   "cell_type": "code",
   "execution_count": null,
   "metadata": {
    "scrolled": true
   },
   "outputs": [],
   "source": [
    "print (\"\\nSummary results of each round of\",n1,\"coin tosses repeated\",k, \"times by random.randint():\\n\\n\",List)"
   ]
  },
  {
   "cell_type": "markdown",
   "metadata": {},
   "source": [
    "<BR>"
   ]
  },
  {
   "cell_type": "markdown",
   "metadata": {},
   "source": [
    "#### Summarize the Results\n",
    "***"
   ]
  },
  {
   "cell_type": "code",
   "execution_count": null,
   "metadata": {},
   "outputs": [],
   "source": [
    "print(\"\\nSummary of Results:\\n\")\n",
    "print(dict(Counter(sorted(List))),\"\\n\")#Count the frequency of each element"
   ]
  },
  {
   "cell_type": "markdown",
   "metadata": {},
   "source": [
    "#### Test the Output - random.randint ()\n",
    "***"
   ]
  },
  {
   "cell_type": "code",
   "execution_count": null,
   "metadata": {},
   "outputs": [],
   "source": [
    "print (\"\\n Frequency of Heads and Tails in 1,000 experiments of 100 coin tosses:\")\n",
    "print(\"\\n Heads were tossed\",sum(running_total),\"times out of\",(n1 * k), \"coin tosses i.e.\",round((sum(running_total))/(k*n)*100,2),\"%\\n\")\n",
    "print(\" Tails were tossed\",(k*n-sum(running_total)),\"times out of\",(n1 * k),\"coin tosses i.e.\",round((((k*n)-(sum(running_total)))/(k*n))*100,2),\"%\\n\")"
   ]
  },
  {
   "cell_type": "markdown",
   "metadata": {},
   "source": [
    "#### Plotting the Result\n",
    "***"
   ]
  },
  {
   "cell_type": "code",
   "execution_count": null,
   "metadata": {},
   "outputs": [],
   "source": [
    "sns.distplot(List,color = 'blue', hist = False, kde=1)\n",
    "plt.xticks([0, 10, 20, 30,40,50,60,70,80,90,100])\n",
    "plt.title ('\\nFrequency of Heads in a Coin Toss Sample\\n',fontsize=14)\n",
    "plt.xlabel('\\nNumber of Heads',fontsize=14)\n",
    "plt.ylabel('Distribution\\n',fontsize=14)\n",
    "plt.grid(True)\n",
    "plt.show();"
   ]
  },
  {
   "cell_type": "markdown",
   "metadata": {},
   "source": [
    "#### Conclusion\n",
    "***"
   ]
  },
  {
   "cell_type": "markdown",
   "metadata": {},
   "source": [
    "1. The result of random.randint() is similar to the random.binomial() over a sample of 100,000.\n",
    "2. The experiment chose heads and tails equally to a low margin of error.\n",
    "3. The most likely result was between 47 and 51 'heads' out of 100 based on 1000 repetitions.\n",
    "4. The result follows a bell shaped curve as expected when random.randint() is used as to simulate the results.\n",
    "\n",
    "Note that this observation might vary depending on the realization of our random simulation."
   ]
  },
  {
   "cell_type": "markdown",
   "metadata": {},
   "source": [
    "#### References:\n",
    "***\n",
    "#### https://cmdlinetips.com/2018/12/simulating-coin-toss-experiment-with-binomial-random-numbers-using-numpy/\n",
    "#### https://www.statisticshowto.com/probability-and-statistics/binomial-theorem/binomial-distribution-formula/\n",
    "#### https://towardsdatascience.com/fun-with-the-binomial-distribution-96a5ecabf65b\n",
    "#### https://www.thoughtco.com/when-to-use-binomial-distribution-3126596\n",
    "#### https://www.journaldev.com/39993/seaborn-distplot#what-is-a-seaborn-distplot\n",
    "#### https://stackoverflow.com/questions/30819056/how-to-label-and-change-the-scale-of-seaborn-kdeplots-axes\n",
    "#### https://www.tutorialspoint.com/numpy/numpy_matplotlib.htm\n",
    "#### https://seaborn.pydata.org/generated/seaborn.distplot.html\n",
    "#### http://pi3.sites.sheffield.ac.uk/tutorials/week-9\n"
   ]
  },
  {
   "cell_type": "markdown",
   "metadata": {},
   "source": [
    "<BR>"
   ]
  },
  {
   "cell_type": "markdown",
   "metadata": {},
   "source": [
    "### Task 4 Instructions:\n",
    "***\n",
    "Simpson’s paradox is a well-known statistical paradoxwhere a trend evident in a number of groups reverses when the groups are combinedinto one big data set.  \n",
    "\n",
    "Instructions:\n",
    "\n",
    "Use numpy to create four data sets, each with an x array and a corresponding y array,  to  demonstrate  Simpson’s  paradox.   \n",
    "\n",
    "You  might create  your x arrays using numpy.linspace and create  the y array  for  each x using notation like y = a * x + b where you choose the a and b for each x,y pair to demonstrate the paradox.  \n",
    "\n",
    "You might see the Wikipedia page for Simpson’s paradox for inspiration.\n",
    "***"
   ]
  },
  {
   "cell_type": "markdown",
   "metadata": {},
   "source": [
    "Simpson’s Paradox occurs when trends that appear when a dataset is separated into groups reverse when the data are aggregated. \n",
    "\n",
    "Carlo’s to be recommended by a higher percentage of both men and women than Sophia’s but to be recommended by a lower percentage of all reviewers. \n",
    "\n",
    "The problem here is that looking only at the percentages in the separate data ignores the sample size, the number of respondents answering the question. Each fraction shows the number of users who would recommend the restaurant out of the number asked. Carlo’s has far more responses from men than from women while the reverse is true for Sophia’s. Since men tend to approve of restaurants at a lower rate, this results in a lower average rating for Carlo’s when the data are combined and hence a paradox."
   ]
  },
  {
   "cell_type": "code",
   "execution_count": null,
   "metadata": {},
   "outputs": [],
   "source": [
    "#import modules:\n",
    "import numpy as np\n",
    "import seaborn as sns\n",
    "import matplotlib as pyplot\n",
    "from collections import Counter"
   ]
  },
  {
   "cell_type": "code",
   "execution_count": null,
   "metadata": {},
   "outputs": [],
   "source": [
    "#Set array 1:\n",
    "a5, b5 = 5,10\n",
    "x5 = np.linspace (1, 50, num = 100, endpoint = True, retstep = False, dtype = None, axis = 0)\n",
    "y5 = a5 * x5 + b5"
   ]
  },
  {
   "cell_type": "code",
   "execution_count": null,
   "metadata": {},
   "outputs": [],
   "source": [
    "#Set array 2:\n",
    "a6, b6 = -10,10\n",
    "x6 = np.linspace (1, 50, num = 100, endpoint = True, retstep = False, dtype = None, axis = 0)\n",
    "y6 = a6 * x6 + b6\n"
   ]
  },
  {
   "cell_type": "code",
   "execution_count": null,
   "metadata": {},
   "outputs": [],
   "source": [
    "#Set array 3:\n",
    "a7, b7 = 20,-40\n",
    "x7 = np.linspace (1, 50, num = 100, endpoint = True, retstep = False, dtype = None, axis = 0)\n",
    "y7 = a7 * x7 + b7\n"
   ]
  },
  {
   "cell_type": "code",
   "execution_count": null,
   "metadata": {},
   "outputs": [],
   "source": [
    "#Set array 4:\n",
    "a8, b8 = 20,70\n",
    "x8 = np.linspace (1, 50, num = 100, endpoint = True, retstep = False, dtype = None, axis = 0)\n",
    "y8 = a8 * x8 + b8\n"
   ]
  },
  {
   "cell_type": "code",
   "execution_count": null,
   "metadata": {},
   "outputs": [],
   "source": [
    "import matplotlib.pyplot as plt\n",
    "plt.plot(x5, y5, \"r.\", label='Dataset 1')\n",
    "plt.plot(x6, y6, \"b.\", label='Dataset 2')\n",
    "plt.plot(x7, y7, \"g.\", label='Dataset 3')\n",
    "plt.plot(x8, y8, \"y.\", label='Dataset 4')\n",
    "plt.legend(loc='best')\n",
    "plt.show()"
   ]
  },
  {
   "cell_type": "code",
   "execution_count": null,
   "metadata": {},
   "outputs": [],
   "source": [
    "arrayx = np.concatenate((x1, x2, x3, x4),axis=0)\n",
    "arrayy = np.concatenate((y1, y2, y3, y4),axis=0)\n",
    "sns.lineplot (arrayx,arrayy)\n",
    "plt.show()"
   ]
  },
  {
   "cell_type": "markdown",
   "metadata": {},
   "source": [
    "#### Method 2 - Simulating Random Data to demonstrate the Paradox\n",
    "***"
   ]
  },
  {
   "cell_type": "code",
   "execution_count": 18,
   "metadata": {},
   "outputs": [
    {
     "name": "stdout",
     "output_type": "stream",
     "text": [
      "\n",
      "Dataset 1\n",
      "\n",
      "Sample Results - Age Group between 18 and 29 :\n",
      "\n",
      "[[23  0  0]\n",
      " [18  0  0]\n",
      " [21  1  0]\n",
      " ...\n",
      " [29  0  0]\n",
      " [26  1  0]\n",
      " [21  1  0]] \n",
      "\n",
      "[235171   7046   1028]\n",
      "Age Profile Sampled {Age:Frequency}:\n",
      "\n",
      "{18: 832, 19: 870, 20: 787, 21: 850, 22: 816, 23: 848, 24: 806, 25: 799, 26: 844, 27: 855, 28: 826, 29: 867} \n",
      "\n",
      "Total Samples: 10000 \n",
      "\n",
      "The total number in the sample undertaking regular exercise is: 7046 i.e 70.5 %\n",
      "The total number in the sample that suffered with disease is  : 1028 i.e 10.3 %\n",
      "\n"
     ]
    }
   ],
   "source": [
    "## Dataset 1: Simulate the scenario demonstrating the link between disease and exercise in adults between 18 and 29 years old:\n",
    "\n",
    "import numpy as np \n",
    "from collections import Counter\n",
    "\n",
    "print(\"\\nDataset 1\")\n",
    "low_age_limit1 = 18 \n",
    "up_age_limit1  = 30  \n",
    "sample_size1 = 10000\n",
    "Prob_Ex1 = 0.7       #Probability of exercising regularly in the sample\n",
    "Prob_Disex1 = 0.1    #Probability of contracting a disease for those that exercised regularly\n",
    "Prob_Disnoex1 = 0.2  #Probability of contracting a disease for those that did not exercise regularly\n",
    "\n",
    "np.random.seed(0)#Set the seed to get consistent results from this array\n",
    "age1 = np.random.randint(low_age_limit1,up_age_limit1,size = sample_size1)\n",
    "#Simulate a sample of 1000 adults aged between 18 and 30\n",
    "x1 = np.random.binomial(1, Prob_Ex1, size = sample_size1)#Assume probability of regular exercise at 70%\n",
    "#Create a random sample (x) where 0 = No Regular Exercise; 1 = Regular Exercise\n",
    "\n",
    "for i1 in x1:\n",
    "    if i1 == 1:\n",
    "    #Create a biased sample (y) based on the probability of disease when the patient regularly exercises where 0 = No Disease; 1 = Disease\n",
    "        y1 = np.random.binomial(1, Prob_Disex1, size = sample_size1)\n",
    "    else:        \n",
    "        #Create a biased sample (y) based on the proabaility of disease where the patient does not regularly exercise 0 = No Disease; 1 = Disease\n",
    "        y1 = np.random.binomial(1, Prob_Disnoex1, size = sample_size1)\n",
    "\n",
    "#Summarise the results:\n",
    "print (\"\\nSample Results - Age Group between\",low_age_limit1,\"and\",(up_age_limit1-1),\":\\n\")\n",
    "#XY1 = np.array(list(zip(age1,x1,y1))) #pair and display the age1, x1 and y1 results\n",
    "#XY1  = XY1.reshape((sample_size1,3)) #reshape into one array per line\n",
    "print (XY1,\"\\n\") #Option to print the results of the full sample\n",
    "print (sum(XY1))\n",
    "\n",
    "#Count the frequency the age profile:\n",
    "print(\"Age Profile Sampled {Age:Frequency}:\\n\")\n",
    "print(dict(Counter(sorted(age1))),\"\\n\")#Count the frequency of each age sampled\n",
    "\n",
    "#Sum the values for x and y:\n",
    "print(\"Total Samples:\",sample_size1,\"\\n\") \n",
    "print(\"The total number in the sample undertaking regular exercise is:\",sum(x1), \"i.e\", round((sum(x1)/sample_size1)*100,1),\"%\")\n",
    "print(\"The total number in the sample that suffered with disease is  :\",sum(y1), \"i.e\", round((sum(y1)/sample_size1)*100,1),\"%\\n\")\n"
   ]
  },
  {
   "cell_type": "code",
   "execution_count": null,
   "metadata": {},
   "outputs": [],
   "source": [
    "#Test the data\n",
    "print(dict(Counter(sorted(x1))),\"No Exercise, Exercise\\n\")#Count the frequency of each age sampled\n",
    "XY1 = np.array(list(zip(x1,y1))) #pair and display the age1, x1 and y1 results\n",
    "#XY1  = XY1.reshape((sample_size1,10)) #reshape into one array per line\n",
    "print (XY1)\n",
    "\n",
    "yval1 = []\n",
    "for i1 in x1:\n",
    "    if \"1\" in [x1]:\n",
    "        #print (i1,y1)\n",
    "        yval1.append(x1,y1)\n",
    "    break\n",
    "    \n",
    "#np.set_printoptions(threshold=np.inf)\n",
    "#print(\"\\n\",yval1)\n",
    "print (y1)"
   ]
  },
  {
   "cell_type": "code",
   "execution_count": 8,
   "metadata": {},
   "outputs": [
    {
     "name": "stdout",
     "output_type": "stream",
     "text": [
      "\n",
      "Dataset 2\n",
      "\n",
      "Sample Results - Age Group between 30 and 49 :\n",
      "\n",
      "Age Profile Sampled {Age:Frequency}:\n",
      "\n",
      "{30: 256, 31: 238, 32: 226, 33: 279, 34: 253, 35: 275, 36: 268, 37: 269, 38: 246, 39: 239, 40: 241, 41: 265, 42: 245, 43: 240, 44: 224, 45: 250, 46: 246, 47: 260, 48: 245, 49: 235} \n",
      "\n",
      "Total Samples: 5000 \n",
      "\n",
      "The total number in the sample undertaking regular exercise is: 3008 i.e 60.2 %\n",
      "The total number in the sample that suffered with disease is  : 1481 i.e 29.6 %\n",
      "\n"
     ]
    }
   ],
   "source": [
    "## Dataset 2: Simulate the scenario demonstrating the link between disease and exercise in adults between 30 and 49 years old:\n",
    "\n",
    "print(\"\\nDataset 2\")\n",
    "low_age_limit2 = 30  \n",
    "up_age_limit2  = 50  \n",
    "sample_size2 = 5000\n",
    "Prob_Ex2 = 0.60      #Probability of exercising regularly in the sample\n",
    "Prob_Disex2 = 0.2    #Probability of contracting a disease for those that exercised regularly\n",
    "Prob_Disnoex2 = 0.3  #Probability of contracting a disease for those that did not exercise regularly\n",
    "np.random.seed(0)\n",
    "age2 = np.random.randint(low_age_limit2,up_age_limit2,size = sample_size2)\n",
    "x2 = np.random.binomial(1, Prob_Ex2, size = sample_size2)\n",
    "\n",
    "for i2 in x2:\n",
    "    if i2 == 1:\n",
    "        y2 = np.random.binomial(1, Prob_Disex2, size = sample_size2)\n",
    "    else:             \n",
    "        y2 = np.random.binomial(1, Prob_Disnoex2, size = sample_size2)\n",
    "\n",
    "print (\"\\nSample Results - Age Group between\",low_age_limit2,\"and\",(up_age_limit2-1),\":\\n\")\n",
    "print(\"Age Profile Sampled {Age:Frequency}:\\n\")\n",
    "print(dict(Counter(sorted(age2))),\"\\n\")\n",
    "print(\"Total Samples:\",sample_size2,\"\\n\") \n",
    "print(\"The total number in the sample undertaking regular exercise is:\",sum(x2), \"i.e\", round((sum(x2)/sample_size2)*100,1),\"%\")\n",
    "print(\"The total number in the sample that suffered with disease is  :\",sum(y2), \"i.e\", round((sum(y2)/sample_size2)*100,1),\"%\\n\")\n"
   ]
  },
  {
   "cell_type": "code",
   "execution_count": 9,
   "metadata": {},
   "outputs": [
    {
     "name": "stdout",
     "output_type": "stream",
     "text": [
      "\n",
      "Dataset 3\n",
      "\n",
      "Sample Results - Age Group between 50 and 69 :\n",
      "\n",
      "Age Profile Sampled{Age:Frequency}:\n",
      "\n",
      "{50: 50, 51: 51, 52: 43, 53: 64, 54: 53, 55: 55, 56: 53, 57: 50, 58: 44, 59: 48, 60: 41, 61: 51, 62: 44, 63: 48, 64: 45, 65: 49, 66: 52, 67: 46, 68: 55, 69: 58} \n",
      "\n",
      "Total Samples: 1000 \n",
      "\n",
      "The total number in the sample undertaking regular exercise is: 449 i.e 44.9 %\n",
      "The total number in the sample that suffered with disease is  : 394 i.e 39.4 %\n",
      "\n"
     ]
    }
   ],
   "source": [
    "## Dataset 3: Simulate the scenario demonstrating the link between disease and exercise in adults between 50 and 69 years old:\n",
    "\n",
    "print(\"\\nDataset 3\")\n",
    "low_age_limit3 = 50  \n",
    "up_age_limit3  = 70  \n",
    "sample_size3 = 1000\n",
    "Prob_Ex3 = 0.45      #Probability of exercising regularly in the sample\n",
    "Prob_Disex3 = 0.3    #Probability of contracting a disease for those that exercised regularly\n",
    "Prob_Disnoex3 = 0.4  #Probability of contracting a disease for those that did not exercise regularly\n",
    "np.random.seed(0)\n",
    "age3 = np.random.randint(low_age_limit3,up_age_limit3,size = sample_size3)\n",
    "x3 = np.random.binomial(1, Prob_Ex3, size = sample_size3)\n",
    "\n",
    "for i3 in x3:\n",
    "    if i3 == 1:\n",
    "        y3 = np.random.binomial(1, Prob_Disex3, size = sample_size3)\n",
    "    else:             \n",
    "        y3 = np.random.binomial(1, Prob_Disnoex3, size = sample_size3)\n",
    "\n",
    "print (\"\\nSample Results - Age Group between\",low_age_limit3,\"and\",(up_age_limit3-1),\":\\n\")\n",
    "print(\"Age Profile Sampled{Age:Frequency}:\\n\")\n",
    "print(dict(Counter(sorted(age3))),\"\\n\")\n",
    "print(\"Total Samples:\",sample_size3,\"\\n\") \n",
    "print(\"The total number in the sample undertaking regular exercise is:\",sum(x3), \"i.e\", round((sum(x3)/sample_size3)*100,1),\"%\")\n",
    "print(\"The total number in the sample that suffered with disease is  :\",sum(y3), \"i.e\", round((sum(y3)/sample_size3)*100,1),\"%\\n\")\n"
   ]
  },
  {
   "cell_type": "code",
   "execution_count": 20,
   "metadata": {},
   "outputs": [
    {
     "name": "stdout",
     "output_type": "stream",
     "text": [
      "\n",
      "Dataset 4\n",
      "\n",
      "Sample Results - Age Group between 70 and 89 :\n",
      "\n",
      "Age Profile Sampled{Age:Frequency}:\n",
      "\n",
      "{70: 50, 71: 51, 72: 43, 73: 64, 74: 53, 75: 55, 76: 53, 77: 50, 78: 44, 79: 48, 80: 41, 81: 51, 82: 44, 83: 48, 84: 45, 85: 49, 86: 52, 87: 46, 88: 55, 89: 58} \n",
      "\n",
      "Total Samples: 1000 \n",
      "\n",
      "The total number in the sample undertaking regular exercise is: 245 i.e 24.5 %\n",
      "The total number in the sample that suffered with disease is  : 606 i.e 60.6 %\n",
      "\n"
     ]
    }
   ],
   "source": [
    "## Dataset 4: Simulate the scenario demonstrating the link between disease and exercise in adults between 70 and 90 years old:\n",
    "\n",
    "from collections import Counter\n",
    "print(\"\\nDataset 4\")\n",
    "low_age_limit4 = 70  \n",
    "up_age_limit4  = 90  \n",
    "sample_size4 = 1000\n",
    "Prob_Ex4 = 0.25      #Probability of exercising regularly in the sample\n",
    "Prob_Disex4 = 0.5    #Probability of contracting a disease for those that exercised regularly\n",
    "Prob_Disnoex4 = 0.6  #Probability of contracting a disease for those that did not exercise regularly\n",
    "np.random.seed(0)\n",
    "age4 = np.random.randint(low_age_limit4,up_age_limit4,size = sample_size4)\n",
    "x4 = np.random.binomial(1, Prob_Ex4, size = sample_size4)\n",
    "\n",
    "for i4 in x4:\n",
    "    if i4 == 1:\n",
    "        y4 = np.random.binomial(1, Prob_Disex4, size = sample_size4)\n",
    "    else:             \n",
    "        y4 = np.random.binomial(1, Prob_Disnoex4, size = sample_size4)\n",
    "\n",
    "print (\"\\nSample Results - Age Group between\",low_age_limit4,\"and\",(up_age_limit4-1),\":\\n\")\n",
    "print(\"Age Profile Sampled{Age:Frequency}:\\n\")\n",
    "print(dict(Counter(sorted(age4))),\"\\n\")\n",
    "print(\"Total Samples:\",sample_size4,\"\\n\") \n",
    "print(\"The total number in the sample undertaking regular exercise is:\",sum(x4), \"i.e\", round((sum(x4)/sample_size4)*100,1),\"%\")\n",
    "print(\"The total number in the sample that suffered with disease is  :\",sum(y4), \"i.e\", round((sum(y4)/sample_size4)*100,1),\"%\\n\")\n"
   ]
  },
  {
   "cell_type": "markdown",
   "metadata": {},
   "source": [
    "<BR>"
   ]
  },
  {
   "cell_type": "markdown",
   "metadata": {},
   "source": [
    "#### Consolidate the Results:\n",
    "***"
   ]
  },
  {
   "cell_type": "code",
   "execution_count": 23,
   "metadata": {},
   "outputs": [],
   "source": [
    "consolx = np.concatenate((x1, x2, x3, x4),axis=0)\n",
    "consoly = np.concatenate((y1, y2, y3, y4),axis=0)\n",
    "consolage = np.concatenate((age1, age2, age3, age4),axis=0)"
   ]
  },
  {
   "cell_type": "markdown",
   "metadata": {},
   "source": [
    "#### Summarise Results & Plot:\n",
    "***"
   ]
  },
  {
   "cell_type": "code",
   "execution_count": 24,
   "metadata": {},
   "outputs": [
    {
     "data": {
      "text/html": [
       "<div>\n",
       "<style scoped>\n",
       "    .dataframe tbody tr th:only-of-type {\n",
       "        vertical-align: middle;\n",
       "    }\n",
       "\n",
       "    .dataframe tbody tr th {\n",
       "        vertical-align: top;\n",
       "    }\n",
       "\n",
       "    .dataframe thead th {\n",
       "        text-align: right;\n",
       "    }\n",
       "</style>\n",
       "<table border=\"1\" class=\"dataframe\">\n",
       "  <thead>\n",
       "    <tr style=\"text-align: left;\">\n",
       "      <th></th>\n",
       "      <th>Age Group</th>\n",
       "      <th></th>\n",
       "      <th>Exercise</th>\n",
       "      <th>% of Sample</th>\n",
       "      <th></th>\n",
       "      <th>Disease</th>\n",
       "      <th>% of Sample</th>\n",
       "      <th>Sample Size</th>\n",
       "    </tr>\n",
       "  </thead>\n",
       "  <tbody>\n",
       "    <tr>\n",
       "      <th>1</th>\n",
       "      <td>18 - 30 years</td>\n",
       "      <td></td>\n",
       "      <td>7046</td>\n",
       "      <td>70</td>\n",
       "      <td></td>\n",
       "      <td>1028</td>\n",
       "      <td>10</td>\n",
       "      <td>10000</td>\n",
       "    </tr>\n",
       "    <tr>\n",
       "      <th>2</th>\n",
       "      <td>31 - 50 years</td>\n",
       "      <td></td>\n",
       "      <td>3008</td>\n",
       "      <td>60</td>\n",
       "      <td></td>\n",
       "      <td>1481</td>\n",
       "      <td>30</td>\n",
       "      <td>5000</td>\n",
       "    </tr>\n",
       "    <tr>\n",
       "      <th>3</th>\n",
       "      <td>51 - 70 years</td>\n",
       "      <td></td>\n",
       "      <td>449</td>\n",
       "      <td>45</td>\n",
       "      <td></td>\n",
       "      <td>394</td>\n",
       "      <td>39</td>\n",
       "      <td>1000</td>\n",
       "    </tr>\n",
       "    <tr>\n",
       "      <th>4</th>\n",
       "      <td>70 - 90 years</td>\n",
       "      <td></td>\n",
       "      <td>245</td>\n",
       "      <td>24</td>\n",
       "      <td></td>\n",
       "      <td>606</td>\n",
       "      <td>61</td>\n",
       "      <td>1000</td>\n",
       "    </tr>\n",
       "    <tr>\n",
       "      <th>5</th>\n",
       "      <td>Full Sample</td>\n",
       "      <td></td>\n",
       "      <td>10748</td>\n",
       "      <td>63</td>\n",
       "      <td></td>\n",
       "      <td>3509</td>\n",
       "      <td>21</td>\n",
       "      <td>17000</td>\n",
       "    </tr>\n",
       "  </tbody>\n",
       "</table>\n",
       "</div>"
      ],
      "text/plain": [
       "  Age Group         Exercise  % of Sample    Disease  % of Sample  Sample Size\n",
       "1  18 - 30 years     7046    70              1028    10            10000      \n",
       "2  31 - 50 years     3008    60              1481    30             5000      \n",
       "3  51 - 70 years      449    45               394    39             1000      \n",
       "4  70 - 90 years      245    24               606    61             1000      \n",
       "5    Full Sample    10748    63              3509    21            17000      "
      ]
     },
     "execution_count": 24,
     "metadata": {},
     "output_type": "execute_result"
    }
   ],
   "source": [
    "import pandas as pd\n",
    "pd.options.display.float_format = '{:,.0f}'.format\n",
    "pd.set_option(\"display.colheader_justify\",\"left\")\n",
    "\n",
    "dataset = [[\"18 - 30 years\",\"\",sum(x1),sum(x1)/sample_size1*100,\"\",sum(y1),sum(y1)/sample_size1*100,len(x1)],[\"31 - 50 years\",\"\",sum(x2),sum(x2)/sample_size2*100,\"\",sum(y2),sum(y2)/sample_size2*100,len(x2)],\n",
    "           [\"51 - 70 years\",\"\",sum(x3),sum(x3)/sample_size3*100,\"\",sum(y3),sum(y3)/sample_size3*100,len(x3)],[\"70 - 90 years\",\"\",sum(x4),sum(x4)/sample_size4*100,\"\",sum(y4),sum(y4)/sample_size4*100,len(x4)],\n",
    "           [\"Full Sample\",\"\",sum(consolx),sum(consolx)/len(consolx)*100,\"\",sum(consoly),sum(consoly)/len(consoly)*100,len(consoly)]]\n",
    "\n",
    "pd.DataFrame(dataset, columns = [\"Age Group\",\"\",\"Exercise\", \"% of Sample\",\"\",\"Disease\",\"% of Sample\",\"Sample Size\"], index=[1,2,3,4,5])"
   ]
  },
  {
   "cell_type": "markdown",
   "metadata": {},
   "source": [
    "<BR>"
   ]
  },
  {
   "cell_type": "code",
   "execution_count": 80,
   "metadata": {},
   "outputs": [
    {
     "data": {
      "image/png": "[encoded data removed]",
      "text/plain": [
       "<Figure size 1008x720 with 1 Axes>"
      ]
     },
     "metadata": {},
     "output_type": "display_data"
    }
   ],
   "source": [
    "import seaborn as sns\n",
    "\n",
    "plt.style.use (\"ggplot\")\n",
    "plt.rcParams['figure.figsize'] = 14,10\n",
    "sns.lineplot (consolx,consoly,color='orange', label='Combined')\n",
    "sns.lineplot (x1,y1,color='red', label='Dataset 1')\n",
    "sns.lineplot (x2,y2,color='blue', label='Dataset 2')\n",
    "sns.lineplot (x3,y3,color='green', label='Dataset 3')\n",
    "sns.lineplot (x4,y4,color='purple', label='Dataset 4')\n",
    "handles, labels = ax.get_legend_handles_labels()\n",
    "ax.legend(handles, labels)\n",
    "plt.show()"
   ]
  },
  {
   "cell_type": "markdown",
   "metadata": {},
   "source": [
    "<BR>"
   ]
  },
  {
   "cell_type": "markdown",
   "metadata": {},
   "source": [
    "#### References\n",
    "***\n",
    "\n",
    "https://en.wikipedia.org/wiki/Simpson%27s_paradox\n",
    "\n",
    "https://www.tutorialspoint.com/find-sum-of-frequency-of-given-elements-in-the-list-in-python\n",
    "\n",
    "https://www.youtube.com/watch?v=ebEkn-BiW5k\n",
    "\n",
    "https://en.wikipedia.org/wiki/Simpson%27s_paradox\n",
    "\n",
    "https://github.com/ijmbarr/simpsons-paradox/blob/master/generating-examples-of-simpsons-paradox.ipynb\n",
    "\n",
    "https://cmdlinetips.com/2018/04/how-to-concatenate-arrays-in-numpy/\n",
    "\n",
    "https://www.tandfonline.com/doi/abs/10.1080/00031305.2016.1200485?scroll=top&needAccess=true&journalCode=utas20\n",
    "\n",
    "https://stackoverflow.com/questions/27930413/how-to-plot-a-multi-dimensional-data-point-in-python\n",
    "\n",
    "https://www.educba.com/3d-arrays-in-python/\n",
    "\n",
    "https://www.tutorialspoint.com/find-sum-of-frequency-of-given-elements-in-the-list-in-python\n",
    "\n",
    "https://www.geeksforgeeks.org/python-ways-to-sum-list-of-lists-and-return-sum-list/\n",
    "\n",
    "http://ugastro.berkeley.edu/pydecal/lecture_4.pdf\n",
    "\n",
    "https://www.bing.com/search?q=Simpson%E2%80%99s+paradox&FORM=EDGNCT&refig=59ad8fee540447c8a466f31562d7a654\n",
    "\n",
    "https://www.pytables.org/usersguide/tutorials.html\n",
    "\n",
    "https://stackoverflow.com/questions/35160256/how-do-i-output-lists-as-a-table-in-jupyter-notebook\n",
    "\n",
    "https://stackoverflow.com/questions/20937538/how-to-display-pandas-dataframe-of-floats-using-a-format-string-for-columns\n",
    "\n",
    "https://kanoki.org/2019/08/27/pandas-dataframe-align-function/\n",
    "\n",
    "https://pandas.pydata.org/pandas-docs/stable/user_guide/style.html\n",
    "\n",
    "https://docs.python.org/3/howto/sorting.html\n",
    "\n",
    "https://xspdf.com/resolution/58024290.html\n",
    "\n",
    "https://www.guru99.com/python-counter-collections-example.html"
   ]
  },
  {
   "cell_type": "code",
   "execution_count": null,
   "metadata": {},
   "outputs": [],
   "source": []
  }
 ],
 "metadata": {
  "kernelspec": {
   "display_name": "Python 3",
   "language": "python",
   "name": "python3"
  },
  "language_info": {
   "codemirror_mode": {
    "name": "ipython",
    "version": 3
   },
   "file_extension": ".py",
   "mimetype": "text/x-python",
   "name": "python",
   "nbconvert_exporter": "python",
   "pygments_lexer": "ipython3",
   "version": "3.8.3"
  }
 },
 "nbformat": 4,
 "nbformat_minor": 4
}
