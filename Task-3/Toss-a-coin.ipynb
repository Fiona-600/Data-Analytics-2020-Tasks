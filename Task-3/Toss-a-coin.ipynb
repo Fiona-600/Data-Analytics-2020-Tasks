{
 "cells": [
  {
   "cell_type": "markdown",
   "metadata": {},
   "source": [
    "### Task Instructions:\n",
    "\n",
    "The numpy.random.binomial function can be used to simulate flipping a coin with a 50/50 chance of heads or tails.  Interestingly, if a coin is flipped many times then the number of heads is well approximated by a bell-shaped curve.  For instance, if we flip a coin 100 times in a row the chance of getting 50 heads is relatively high, the chances of getting 0 or 100 heads is relatively low, and the chances of getting any other number of heads decreases as you move away from 50 in either direction towards 0 or 100.  \n",
    "\n",
    "#### Instructions:\n",
    "\n",
    "1. Write some python code that simulates flipping a coin 100 times.  Then run this code 1,000 times, keeping track of  the  number  of  heads  in  each  of  the  1,000  simulations.   \n",
    "\n",
    "2. Select  an  appropriate plot to depict the resulting list of 1,000 numbers, showing that it roughly follows a bell-shaped curve.  \n",
    "\n",
    "   (You should explain your work in a Markdown cell above the code)"
   ]
  },
  {
   "cell_type": "markdown",
   "metadata": {},
   "source": [
    "***"
   ]
  },
  {
   "cell_type": "code",
   "execution_count": 1,
   "metadata": {},
   "outputs": [],
   "source": [
    "#import the modules for the assignment\n",
    "import numpy as np\n",
    "import matplotlib.pyplot as plt\n",
    "import random\n"
   ]
  },
  {
   "cell_type": "markdown",
   "metadata": {},
   "source": [
    "#### np.random.binomial(n, p, size)\n",
    "\n",
    "n = number of trials in a single round or experiment\n",
    "\n",
    "p = Probability of success or failure\n",
    "\n",
    "size = number of rounds or experiments\n",
    "\n"
   ]
  },
  {
   "cell_type": "markdown",
   "metadata": {},
   "source": [
    "Mathematically, a coin toss experiment can be thought of a binomial experiment, where we have a coin with probability of getting head as success at each coin toss is p. In a binomial experiment, given n and p, we toss the coin n times and we are interested in the number of heads/successes we will get."
   ]
  },
  {
   "cell_type": "markdown",
   "metadata": {},
   "source": [
    "#### Coin Toss Assumptions\n",
    "\n",
    "- The coin is fair i.e. there is a 50/50 chance that the result will be heads or tails i.e. p = 0.5.  The coin can be biased by changing the probability \n",
    "- If head is tossed, the result will be 1 (Success)\n",
    "- If tail is tossed, the result will be 0 (Fail)"
   ]
  },
  {
   "cell_type": "markdown",
   "metadata": {},
   "source": [
    "*** "
   ]
  },
  {
   "cell_type": "markdown",
   "metadata": {},
   "source": [
    "#### Coin Toss Experiment using random.binomial ()"
   ]
  },
  {
   "cell_type": "code",
   "execution_count": 2,
   "metadata": {
    "scrolled": true
   },
   "outputs": [
    {
     "name": "stdout",
     "output_type": "stream",
     "text": [
      "\n",
      "The number of times heads was rolled in 1000 rounds of 100 coin tosses:\n",
      "\n",
      " [52 47 52 51 53 52 46 45 53 51 50 41 51 46 48 60 44 49 48 54 45 52 43 47\n",
      " 48 46 60 46 56 40 54 47 50 44 54 56 45 52 42 52 60 45 52 50 48 40 50 46\n",
      " 56 56 41 46 50 50 48 46 43 46 48 49 50 53 47 48 47 48 49 54 48 48 54 48\n",
      " 60 53 49 52 48 42 57 50 46 49 56 45 51 48 47 47 42 49 50 38 54 55 50 50\n",
      " 41 47 56 56 49 55 54 49 53 47 53 54 48 46 50 56 49 41 46 56 53 54 45 56\n",
      " 47 47 40 52 53 52 54 47 47 55 51 59 45 52 48 47 55 58 52 50 42 44 51 42\n",
      " 43 56 55 49 45 59 51 48 53 45 51 57 45 54 46 49 55 47 56 49 59 50 54 57\n",
      " 52 47 49 44 48 51 42 47 52 54 52 54 50 55 46 57 51 50 50 37 54 55 56 48\n",
      " 50 54 52 49 50 50 46 49 50 44 51 55 47 48 54 49 61 55 58 55 44 52 43 53\n",
      " 44 56 56 47 56 48 48 53 40 51 55 59 51 52 43 50 48 45 50 42 57 51 50 51\n",
      " 39 50 44 58 44 58 60 58 48 43 39 48 43 59 52 53 45 55 53 55 55 56 49 48\n",
      " 40 48 55 50 48 51 51 50 51 47 62 55 55 51 52 55 56 52 50 54 50 48 56 48\n",
      " 44 40 49 60 47 53 43 49 57 49 55 56 54 45 51 53 47 43 46 44 47 39 50 46\n",
      " 43 40 55 48 48 46 52 51 47 54 47 52 50 49 51 50 42 61 51 52 52 48 52 37\n",
      " 52 45 41 57 45 50 50 49 42 48 45 50 51 46 51 42 40 49 48 34 42 47 46 60\n",
      " 46 51 40 50 57 45 52 39 44 47 39 48 46 49 53 46 51 45 60 47 47 58 55 47\n",
      " 49 56 56 48 44 47 53 50 52 47 53 52 49 50 49 57 49 47 43 51 54 49 51 49\n",
      " 41 50 55 60 50 48 49 44 48 47 49 64 54 43 47 43 48 48 51 40 56 53 46 40\n",
      " 47 53 47 55 53 45 49 44 50 55 50 49 51 53 46 50 56 45 54 52 56 56 46 36\n",
      " 54 50 49 45 51 46 52 44 44 51 55 49 51 42 45 54 47 53 42 43 55 56 48 59\n",
      " 52 55 50 45 46 59 50 47 49 49 43 46 39 57 46 48 45 55 58 51 37 49 53 51\n",
      " 43 50 53 54 59 64 59 53 46 57 61 47 47 52 49 57 50 59 47 58 53 55 49 51\n",
      " 54 44 46 52 38 44 54 59 50 46 48 51 48 59 51 53 46 46 49 50 56 50 53 49\n",
      " 45 51 51 49 45 46 47 52 51 47 49 48 60 46 47 49 51 51 51 46 49 41 43 49\n",
      " 47 44 52 53 45 59 56 49 56 48 38 55 53 50 52 49 51 50 49 47 45 52 45 53\n",
      " 59 54 59 41 49 41 57 55 48 47 52 42 51 49 53 47 49 55 46 47 50 52 46 49\n",
      " 52 45 48 49 42 52 63 48 46 43 50 50 47 53 52 56 53 51 59 51 56 50 58 62\n",
      " 50 42 45 47 46 52 53 43 50 50 47 50 49 48 59 55 55 54 39 46 43 48 51 44\n",
      " 56 50 50 60 53 55 49 44 43 54 50 54 58 53 54 53 49 58 54 57 53 45 49 53\n",
      " 50 50 47 45 53 50 53 53 51 53 57 53 56 51 47 48 52 48 55 44 44 52 53 51\n",
      " 50 54 45 46 48 49 53 50 47 51 46 51 53 63 52 45 53 48 50 44 40 53 51 54\n",
      " 50 49 54 54 56 55 56 48 60 46 41 41 45 57 51 40 51 54 50 58 57 54 54 50\n",
      " 46 56 49 47 62 48 47 51 47 51 51 49 50 43 49 51 50 42 47 50 47 50 47 44\n",
      " 44 53 51 51 55 49 50 53 50 48 40 50 54 44 50 47 52 51 37 53 46 46 44 40\n",
      " 51 56 53 52 45 50 56 56 47 48 52 57 53 60 50 42 55 58 51 51 48 51 46 52\n",
      " 47 52 46 53 53 54 55 44 59 35 47 49 55 51 48 48 55 49 53 58 50 54 43 58\n",
      " 45 44 52 55 61 47 52 50 48 39 51 49 61 50 57 47 48 56 46 48 49 51 52 58\n",
      " 60 45 49 54 54 47 42 50 49 54 59 51 52 43 50 44 44 39 61 49 50 50 40 52\n",
      " 49 51 59 50 49 40 50 45 42 55 55 52 52 55 51 50 59 53 46 48 55 49 47 65\n",
      " 53 49 55 47 45 47 41 51 42 40 51 47 54 50 41 43 45 56 47 48 36 63 44 53\n",
      " 47 52 60 51 44 43 46 44 49 43 56 51 47 54 55 52 52 51 46 49 52 44 53 59\n",
      " 55 45 44 52 51 50 52 49 45 49 48 47 53 52 48 54]\n"
     ]
    }
   ],
   "source": [
    "np.random.seed(1)# set the seed to get same random number\n",
    "n = 100 # Number of coin tosses (trials)\n",
    "p = 0.5 # Probability of rolling heads\n",
    "size = 1000 # Repeat our experiment 1000 times (repetitions)\n",
    "x = np.random.binomial(n,p,size)\n",
    "print (\"\\nThe number of times heads was rolled in\",size,\"rounds of\",n,\"coin tosses:\\n\\n\",x )\n"
   ]
  },
  {
   "cell_type": "markdown",
   "metadata": {},
   "source": [
    "***"
   ]
  },
  {
   "cell_type": "markdown",
   "metadata": {
    "scrolled": true
   },
   "source": [
    "#### Test the Output"
   ]
  },
  {
   "cell_type": "code",
   "execution_count": 3,
   "metadata": {},
   "outputs": [
    {
     "name": "stdout",
     "output_type": "stream",
     "text": [
      "\n",
      "SUMMARY RESULTS OF THE COIN TOSS EXPERIMENT:\n",
      "\n",
      "The number of heads and tails tossed using random.binomial in 1000 rounds of 100 coin tosses is:\n",
      "\n",
      "Heads were tossed 49899 times 49.9 %\n",
      "Tails were tossed 50101 times 50.1 %\n",
      "\n"
     ]
    }
   ],
   "source": [
    "print(\"\")\n",
    "print(\"SUMMARY RESULTS OF THE COIN TOSS EXPERIMENT:\")\n",
    "print (\"\\nThe number of heads and tails tossed using random.binomial in\",size,\"rounds of\",n,\"coin tosses is:\")\n",
    "print(\"\")\n",
    "print (\"Heads were tossed\",sum(x),\"times\",(round((sum(x)/(size*n))*100,2)),\"%\")\n",
    "print (\"Tails were tossed\",(n*size-sum(x)),\"times\",(round(((n*size-sum(x))/(size*n))*100,2)),\"%\")\n",
    "print(\"\")"
   ]
  },
  {
   "cell_type": "markdown",
   "metadata": {},
   "source": [
    "We can see from the test above that the experiment chose heads and tails equally to a low margin of error"
   ]
  },
  {
   "cell_type": "markdown",
   "metadata": {},
   "source": [
    "***"
   ]
  },
  {
   "cell_type": "markdown",
   "metadata": {},
   "source": [
    "#### Coin Toss Experiment using random.randint ()"
   ]
  },
  {
   "cell_type": "code",
   "execution_count": 4,
   "metadata": {},
   "outputs": [
    {
     "name": "stdout",
     "output_type": "stream",
     "text": [
      "\n"
     ]
    }
   ],
   "source": [
    "# The following code calculates the frequency of heads or tails result in coin tosses using random.randint()\n",
    "\n",
    "import random\n",
    "\n",
    "k = 1000 # Number of rounds\n",
    "n = 100  # Number of coins tossed\n",
    "\n",
    "Rounds = 1 # Temporary storage value for 'k'\n",
    "Toss = 0 # Temporary storage value for 'n'\n",
    "List_of_Tosses = [] # Empty List to accumulate the individual value of every coin tossed\n",
    "Round_Total = [] # Empty List to accumulate the tally of the tosses for each round \n",
    "print (\"\")\n",
    "\n",
    "while Rounds <= k:\n",
    "    \n",
    "    Cumulative = 0 #Re-set the accumulated score to zero at the end of each round\n",
    "    \n",
    "    for Toss in range (1,(n+1)): # For roll number in range from 1 to n (as defined above)\n",
    "        \n",
    "        CoinToss = random.randint(0,1) # Generate a random number between 0 and 1 (Heads or tails)\n",
    "        #print (\"Round\", str (Rounds) , \"-\" , \"Toss\" , str (Toss) , \"Tossed:\" , str (CoinToss)) \n",
    "        # print individual coin tosses in the round\n",
    "        List_of_Tosses.append (CoinToss) # Append the value of the individual tosses to 'List_of_Tosses' List    \n",
    "        Cumulative = Cumulative + Toss # Create a running total for the value of Coins Tossed in the round\n",
    "        \n",
    "    Rounds = Rounds + 1 # advance to the next round \n",
    "    Toss = Toss + 1     # advance to the next coin toss    \n",
    "    Round_Total.append (Cumulative) # Creat a List of Round Totals"
   ]
  },
  {
   "cell_type": "markdown",
   "metadata": {},
   "source": [
    "#### Test the Output "
   ]
  },
  {
   "cell_type": "code",
   "execution_count": 25,
   "metadata": {},
   "outputs": [
    {
     "name": "stdout",
     "output_type": "stream",
     "text": [
      "\n",
      "SUMMARY RESULTS OF THE COIN TOSS EXPERIMENT:\n",
      "\n",
      "Frequency of Heads or Tails:\n",
      "\n",
      "   Heads = 1; Tails = 0\n",
      "\n",
      "   0 was tossed 49628 times - 49.63 %\n",
      "   1 was tossed 50372 times - 50.37 %\n",
      "\n"
     ]
    },
    {
     "data": {
      "image/png": "[encoded data removed]",
      "text/plain": [
       "<Figure size 432x288 with 1 Axes>"
      ]
     },
     "metadata": {
      "needs_background": "light"
     },
     "output_type": "display_data"
    },
    {
     "name": "stdout",
     "output_type": "stream",
     "text": [
      "\n"
     ]
    }
   ],
   "source": [
    "print (\"\")\n",
    "print (\"SUMMARY RESULTS OF THE COIN TOSS EXPERIMENT:\")\n",
    "print (\"\")\n",
    "print (\"Frequency of Heads or Tails:\")\n",
    "print (\"\")\n",
    "\n",
    "def cointoss():\n",
    "\n",
    "    Frequency1 = {} # create a blank dictionary to store frequency of each element \n",
    "\n",
    "    for element1 in sorted (List_of_Tosses): # iterating over the elements for frequency\n",
    "\n",
    "        if element1 in Frequency1:  #check if the element in the 'List_of_Tosses' is already in the dictionary\n",
    "        \n",
    "            Frequency1 [element1] = Frequency1 [element1] + 1  # incrementing the count by 1 if already in dictionary\n",
    "            #Alternative to Frequency1 [element1] += 1\n",
    "        else:\n",
    "            Frequency1 [element1] = 1 # setting the count to 1 if first instance i.e not in the dictionary yet\n",
    "   \n",
    "    print(\"   Heads = 1; Tails = 0\")\n",
    "    print (\"\")\n",
    "    \n",
    "    for key, value in Frequency1.items():\n",
    "        \n",
    "          print (f\" {key:3} was tossed {value:3} times\".format (key,value),\"-\",(round(value/k/n * 100,2)),\"%\")\n",
    "        # printing the elements frequencies\n",
    "   \n",
    "cointoss() # call the function 'cointoss'\n",
    "\n",
    "print (\"\")\n",
    "x = List_of_Tosses\n",
    "plt.hist (x, 3)\n",
    "plt.title (\"Results of the Coin Toss Experiment\\n\")\n",
    "plt.ylabel (\"Frequency\\n\")\n",
    "plt.xlabel (\"\\n Value of Coins Tossed - Heads = 1; Tails = 0\")\n",
    "plt.show ()\n",
    "print(\"\")"
   ]
  },
  {
   "cell_type": "markdown",
   "metadata": {},
   "source": [
    "We can see from this experiment using random.randint that the result is similar to the random.binomial over a sample of 100,000."
   ]
  },
  {
   "cell_type": "markdown",
   "metadata": {},
   "source": [
    "***"
   ]
  },
  {
   "cell_type": "markdown",
   "metadata": {},
   "source": []
  },
  {
   "cell_type": "markdown",
   "metadata": {},
   "source": []
  },
  {
   "cell_type": "markdown",
   "metadata": {},
   "source": []
  },
  {
   "cell_type": "markdown",
   "metadata": {},
   "source": []
  },
  {
   "cell_type": "markdown",
   "metadata": {},
   "source": []
  },
  {
   "cell_type": "markdown",
   "metadata": {},
   "source": []
  },
  {
   "cell_type": "markdown",
   "metadata": {},
   "source": []
  },
  {
   "cell_type": "markdown",
   "metadata": {},
   "source": []
  },
  {
   "cell_type": "markdown",
   "metadata": {},
   "source": [
    "#### References:\n",
    "#### https://cmdlinetips.com/2018/12/simulating-coin-toss-experiment-with-binomial-random-numbers-using-numpy/\n",
    "#### https://www.statisticshowto.com/probability-and-statistics/binomial-theorem/binomial-distribution-formula/\n",
    "#### https://towardsdatascience.com/fun-with-the-binomial-distribution-96a5ecabf65b\n",
    "#### https://www.thoughtco.com/when-to-use-binomial-distribution-3126596\n",
    "#### https://github.com/Fiona-600/Fundamentals-of-Data-Analytics-2020-Tasks/tree/main/Task-2\n"
   ]
  },
  {
   "cell_type": "markdown",
   "metadata": {},
   "source": []
  }
 ],
 "metadata": {
  "kernelspec": {
   "display_name": "Python 3",
   "language": "python",
   "name": "python3"
  },
  "language_info": {
   "codemirror_mode": {
    "name": "ipython",
    "version": 3
   },
   "file_extension": ".py",
   "mimetype": "text/x-python",
   "name": "python",
   "nbconvert_exporter": "python",
   "pygments_lexer": "ipython3",
   "version": "3.8.3"
  }
 },
 "nbformat": 4,
 "nbformat_minor": 4
}
