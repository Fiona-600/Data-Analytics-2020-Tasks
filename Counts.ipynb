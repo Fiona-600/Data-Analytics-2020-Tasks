{
 "cells": [
  {
   "cell_type": "markdown",
   "metadata": {},
   "source": [
    "# Task 1:\n",
    "\n",
    "Write a python function that takes a list as an input and outputs a dictionary of unique items in the list as keys and the number of times each item appears as values."
   ]
  },
  {
   "cell_type": "markdown",
   "metadata": {},
   "source": [
    "### Approach:\n",
    "\n",
    "My approach to this task was to firstly reseach various ways in which the required output could be achieved and to \n",
    "assess each method versus each type of character."
   ]
  },
  {
   "cell_type": "markdown",
   "metadata": {},
   "source": [
    "### Software Used:\n",
    "\n",
    "I will use Python version 3.8.3 and Jupyter Notebook version 6.0.3 in this task."
   ]
  },
  {
   "cell_type": "markdown",
   "metadata": {},
   "source": [
    "-------------------------------------------------------------------------------------------------------------------------"
   ]
  },
  {
   "cell_type": "markdown",
   "metadata": {},
   "source": [
    "## Method 1: Count-v4\n",
    "\n",
    "#### This method was sourced from the following source: \n",
    "\n",
    "https://stackoverflow.com/questions/24878174/how-to-count-digits-letters-spaces-for-a-string-in-python/45544018\n"
   ]
  },
  {
   "cell_type": "code",
   "execution_count": 71,
   "metadata": {},
   "outputs": [
    {
     "name": "stdout",
     "output_type": "stream",
     "text": [
      "\n",
      "enter a List:  1,2,a,c,!\n",
      "\n",
      "The number of letters are -- 2\n",
      "The number of numbers are -- 2\n",
      "The number of characters are -- 0\n"
     ]
    }
   ],
   "source": [
    "    print (\"\")\n",
    "    List = input (\"enter a List:  \")\n",
    "    \n",
    "    letter = 0\n",
    "    number = 0\n",
    "    character = 0\n",
    "    other = 0\n",
    "    space = 0\n",
    "    \n",
    "    for i in List:\n",
    "        if i.isalpha():\n",
    "            letter += 1\n",
    "        elif i.isnumeric():\n",
    "            number += 1\n",
    "        #elif i.ischar():\n",
    "            #character += 1\n",
    "        else:\n",
    "            character += 0\n",
    "    \n",
    "\n",
    "    print (\"\")\n",
    "    print(\"The number of letters are --\", letter)\n",
    "    print(\"The number of numbers are --\", number)\n",
    "    print(\"The number of characters are --\", character)"
   ]
  },
  {
   "cell_type": "code",
   "execution_count": null,
   "metadata": {},
   "outputs": [],
   "source": []
  },
  {
   "cell_type": "markdown",
   "metadata": {},
   "source": [
    "## THIS IS A TEST "
   ]
  },
  {
   "cell_type": "code",
   "execution_count": 10,
   "metadata": {},
   "outputs": [
    {
     "name": "stdout",
     "output_type": "stream",
     "text": [
      "(0, 10, 1)\n"
     ]
    }
   ],
   "source": [
    "def match_string(words):\n",
    "    nums = 0\n",
    "    letter = 0\n",
    "    other = 0\n",
    "    for i in words :\n",
    "        if i.isalpha():\n",
    "            letter+=1\n",
    "        elif i.isdigit():\n",
    "            nums+=1\n",
    "        else:\n",
    "            other+=1\n",
    "    return nums,letter,other\n",
    "\n",
    "x = match_string(\"Hello World\")\n",
    "print (x)\n"
   ]
  },
  {
   "cell_type": "markdown",
   "metadata": {},
   "source": [
    "### Commentary:\n",
    "\n",
    "#Write a Python program that accepts a string and calculate the number of digits andletters.\n",
    "\n",
    "### Limitations: \n",
    "\n",
    "This has been amended from original counts-v4 (different code - same thread)\n",
    "\n"
   ]
  },
  {
   "cell_type": "markdown",
   "metadata": {},
   "source": [
    "-------------------------------------------------------------------------------------------------------------------------"
   ]
  },
  {
   "cell_type": "markdown",
   "metadata": {},
   "source": [
    "## Method 2: Count-v1\n",
    "    \n",
    "This method was sourced from the following source:\n",
    "\n",
    "https://www.netjstech.com/2019/09/python-program-count-occurrences-each-character-string.html"
   ]
  },
  {
   "cell_type": "code",
   "execution_count": 87,
   "metadata": {},
   "outputs": [
    {
     "name": "stdout",
     "output_type": "stream",
     "text": [
      "n -  1\n",
      ", -  9\n",
      "e -  1\n",
      "t -  1\n",
      "j -  1\n",
      "s -  1\n",
      "1 -  1\n",
      "2 -  1\n",
      "3 -  1\n",
      "4 -  1\n",
      "# -  1\n",
      "! -  1\n"
     ]
    }
   ],
   "source": [
    "def count_char(text):\n",
    "  for i in range(len(text)):\n",
    "    if len(text) == 0:\n",
    "      break;\n",
    "    ch = text[0]\n",
    "    # don't count frequency of spaces\n",
    "    if ch == ' ' or ch == '\\t' :\n",
    "        continue\n",
    "    count = 1\n",
    "    for j in range(1, len(text)):\n",
    "          if ch == text[j]:\n",
    "            count += 1\n",
    "            #if text [j].isspace () :\n",
    "                #count += 0\n",
    "        \n",
    "    \n",
    "    # replace all other occurrences of the character whose count is done, strip() is required for scenario where first \n",
    "    # char is replaced and there is space after that\n",
    "    text = text.replace(ch, '').strip()\n",
    "    print(ch + \" - \", count)\n",
    "\n",
    "count_char('n,e,t,js,1,2,3,4,#,!')"
   ]
  },
  {
   "cell_type": "markdown",
   "metadata": {},
   "source": [
    "### Commentary:\n",
    "\n",
    "### Limitations: \n",
    "\n",
    "- Counts ',' as a character\n",
    "- Needs '  ' around characters\n",
    "\n",
    "You can also use Dictionary to count occurrences of each character in the String. \n",
    "\n",
    "Character is stored as a key in dictionary and for each character it is checked if that character already exists as a key in dictionary or not. If it exists then increment the value associated with that key by 1, if such a key doesn’t exist then add it to the dictionary with value as Returns numbers, letters and characters.  \n"
   ]
  },
  {
   "cell_type": "markdown",
   "metadata": {},
   "source": [
    "-------------------------------------------------------------------------------------------------------------------------"
   ]
  },
  {
   "cell_type": "markdown",
   "metadata": {},
   "source": [
    "## Method 3: Count-v2\n",
    "\n",
    "#### This method was sourced from the following source:\n",
    "\n",
    "https://www.netjstech.com/2019/09/python-program-count-occurrences-each-character-string.html"
   ]
  },
  {
   "cell_type": "code",
   "execution_count": 11,
   "metadata": {},
   "outputs": [
    {
     "name": "stdout",
     "output_type": "stream",
     "text": [
      "# occurs 1 times\n",
      "# occurs 2 times\n",
      "# occurs 2 times\n",
      "! occurs 1 times\n",
      "# occurs 2 times\n",
      "! occurs 2 times\n",
      "# occurs 2 times\n",
      "! occurs 2 times\n",
      "a occurs 1 times\n",
      "# occurs 2 times\n",
      "! occurs 2 times\n",
      "a occurs 1 times\n",
      "b occurs 1 times\n",
      "# occurs 2 times\n",
      "! occurs 2 times\n",
      "a occurs 1 times\n",
      "b occurs 1 times\n",
      "c occurs 1 times\n",
      "# occurs 2 times\n",
      "! occurs 2 times\n",
      "a occurs 1 times\n",
      "b occurs 1 times\n",
      "c occurs 1 times\n",
      ", occurs 1 times\n",
      "# occurs 2 times\n",
      "! occurs 2 times\n",
      "a occurs 1 times\n",
      "b occurs 1 times\n",
      "c occurs 1 times\n",
      ", occurs 1 times\n",
      "1 occurs 1 times\n",
      "# occurs 2 times\n",
      "! occurs 2 times\n",
      "a occurs 1 times\n",
      "b occurs 1 times\n",
      "c occurs 1 times\n",
      ", occurs 2 times\n",
      "1 occurs 1 times\n",
      "# occurs 2 times\n",
      "! occurs 2 times\n",
      "a occurs 1 times\n",
      "b occurs 1 times\n",
      "c occurs 1 times\n",
      ", occurs 2 times\n",
      "1 occurs 1 times\n",
      "2 occurs 1 times\n",
      "# occurs 2 times\n",
      "! occurs 2 times\n",
      "a occurs 1 times\n",
      "b occurs 1 times\n",
      "c occurs 1 times\n",
      ", occurs 3 times\n",
      "1 occurs 1 times\n",
      "2 occurs 1 times\n",
      "# occurs 2 times\n",
      "! occurs 2 times\n",
      "a occurs 1 times\n",
      "b occurs 1 times\n",
      "c occurs 1 times\n",
      ", occurs 3 times\n",
      "1 occurs 1 times\n",
      "2 occurs 1 times\n",
      "3 occurs 1 times\n",
      "# occurs 2 times\n",
      "! occurs 2 times\n",
      "a occurs 1 times\n",
      "b occurs 1 times\n",
      "c occurs 1 times\n",
      ", occurs 4 times\n",
      "1 occurs 1 times\n",
      "2 occurs 1 times\n",
      "3 occurs 1 times\n",
      "# occurs 2 times\n",
      "! occurs 2 times\n",
      "a occurs 1 times\n",
      "b occurs 1 times\n",
      "c occurs 1 times\n",
      ", occurs 4 times\n",
      "1 occurs 1 times\n",
      "2 occurs 1 times\n",
      "3 occurs 1 times\n",
      "n occurs 1 times\n",
      "# occurs 2 times\n",
      "! occurs 2 times\n",
      "a occurs 1 times\n",
      "b occurs 1 times\n",
      "c occurs 1 times\n",
      ", occurs 5 times\n",
      "1 occurs 1 times\n",
      "2 occurs 1 times\n",
      "3 occurs 1 times\n",
      "n occurs 1 times\n",
      "# occurs 2 times\n",
      "! occurs 2 times\n",
      "a occurs 1 times\n",
      "b occurs 1 times\n",
      "c occurs 1 times\n",
      ", occurs 5 times\n",
      "1 occurs 1 times\n",
      "2 occurs 1 times\n",
      "3 occurs 1 times\n",
      "n occurs 1 times\n",
      "e occurs 1 times\n",
      "# occurs 2 times\n",
      "! occurs 2 times\n",
      "a occurs 1 times\n",
      "b occurs 1 times\n",
      "c occurs 1 times\n",
      ", occurs 6 times\n",
      "1 occurs 1 times\n",
      "2 occurs 1 times\n",
      "3 occurs 1 times\n",
      "n occurs 1 times\n",
      "e occurs 1 times\n",
      "# occurs 2 times\n",
      "! occurs 2 times\n",
      "a occurs 1 times\n",
      "b occurs 1 times\n",
      "c occurs 1 times\n",
      ", occurs 6 times\n",
      "1 occurs 1 times\n",
      "2 occurs 1 times\n",
      "3 occurs 1 times\n",
      "n occurs 1 times\n",
      "e occurs 1 times\n",
      "t occurs 1 times\n",
      "# occurs 2 times\n",
      "! occurs 2 times\n",
      "a occurs 1 times\n",
      "b occurs 1 times\n",
      "c occurs 1 times\n",
      ", occurs 6 times\n",
      "1 occurs 1 times\n",
      "2 occurs 1 times\n",
      "3 occurs 1 times\n",
      "n occurs 1 times\n",
      "e occurs 1 times\n",
      "t occurs 1 times\n",
      "j occurs 1 times\n",
      "# occurs 2 times\n",
      "! occurs 2 times\n",
      "a occurs 1 times\n",
      "b occurs 1 times\n",
      "c occurs 1 times\n",
      ", occurs 6 times\n",
      "1 occurs 1 times\n",
      "2 occurs 1 times\n",
      "3 occurs 1 times\n",
      "n occurs 1 times\n",
      "e occurs 1 times\n",
      "t occurs 1 times\n",
      "j occurs 1 times\n",
      "s occurs 1 times\n",
      "# occurs 2 times\n",
      "! occurs 2 times\n",
      "a occurs 1 times\n",
      "b occurs 1 times\n",
      "c occurs 1 times\n",
      ", occurs 6 times\n",
      "1 occurs 1 times\n",
      "2 occurs 1 times\n",
      "3 occurs 1 times\n",
      "n occurs 1 times\n",
      "e occurs 1 times\n",
      "t occurs 1 times\n",
      "j occurs 2 times\n",
      "s occurs 1 times\n",
      "# occurs 2 times\n",
      "! occurs 2 times\n",
      "a occurs 2 times\n",
      "b occurs 1 times\n",
      "c occurs 1 times\n",
      ", occurs 6 times\n",
      "1 occurs 1 times\n",
      "2 occurs 1 times\n",
      "3 occurs 1 times\n",
      "n occurs 1 times\n",
      "e occurs 1 times\n",
      "t occurs 1 times\n",
      "j occurs 2 times\n",
      "s occurs 1 times\n",
      "# occurs 2 times\n",
      "! occurs 2 times\n",
      "a occurs 2 times\n",
      "b occurs 1 times\n",
      "c occurs 1 times\n",
      ", occurs 6 times\n",
      "1 occurs 1 times\n",
      "2 occurs 1 times\n",
      "3 occurs 1 times\n",
      "n occurs 1 times\n",
      "e occurs 1 times\n",
      "t occurs 1 times\n",
      "j occurs 2 times\n",
      "s occurs 1 times\n",
      "v occurs 1 times\n",
      "# occurs 2 times\n",
      "! occurs 2 times\n",
      "a occurs 3 times\n",
      "b occurs 1 times\n",
      "c occurs 1 times\n",
      ", occurs 6 times\n",
      "1 occurs 1 times\n",
      "2 occurs 1 times\n",
      "3 occurs 1 times\n",
      "n occurs 1 times\n",
      "e occurs 1 times\n",
      "t occurs 1 times\n",
      "j occurs 2 times\n",
      "s occurs 1 times\n",
      "v occurs 1 times\n",
      "# occurs 2 times\n",
      "! occurs 2 times\n",
      "a occurs 3 times\n",
      "b occurs 1 times\n",
      "c occurs 1 times\n",
      ", occurs 6 times\n",
      "1 occurs 1 times\n",
      "2 occurs 1 times\n",
      "3 occurs 1 times\n",
      "n occurs 1 times\n",
      "e occurs 1 times\n",
      "t occurs 1 times\n",
      "j occurs 2 times\n",
      "s occurs 2 times\n",
      "v occurs 1 times\n",
      "# occurs 2 times\n",
      "! occurs 2 times\n",
      "a occurs 3 times\n",
      "b occurs 1 times\n",
      "c occurs 1 times\n",
      ", occurs 6 times\n",
      "1 occurs 1 times\n",
      "2 occurs 1 times\n",
      "3 occurs 1 times\n",
      "n occurs 1 times\n",
      "e occurs 1 times\n",
      "t occurs 1 times\n",
      "j occurs 2 times\n",
      "s occurs 2 times\n",
      "v occurs 1 times\n",
      "p occurs 1 times\n",
      "# occurs 2 times\n",
      "! occurs 2 times\n",
      "a occurs 3 times\n",
      "b occurs 1 times\n",
      "c occurs 1 times\n",
      ", occurs 6 times\n",
      "1 occurs 1 times\n",
      "2 occurs 1 times\n",
      "3 occurs 1 times\n",
      "n occurs 1 times\n",
      "e occurs 1 times\n",
      "t occurs 1 times\n",
      "j occurs 2 times\n",
      "s occurs 2 times\n",
      "v occurs 1 times\n",
      "p occurs 1 times\n",
      "r occurs 1 times\n",
      "# occurs 2 times\n",
      "! occurs 2 times\n",
      "a occurs 3 times\n",
      "b occurs 1 times\n",
      "c occurs 1 times\n",
      ", occurs 6 times\n",
      "1 occurs 1 times\n",
      "2 occurs 1 times\n",
      "3 occurs 1 times\n",
      "n occurs 1 times\n",
      "e occurs 1 times\n",
      "t occurs 1 times\n",
      "j occurs 2 times\n",
      "s occurs 2 times\n",
      "v occurs 1 times\n",
      "p occurs 1 times\n",
      "r occurs 1 times\n",
      "i occurs 1 times\n",
      "# occurs 2 times\n",
      "! occurs 2 times\n",
      "a occurs 3 times\n",
      "b occurs 1 times\n",
      "c occurs 1 times\n",
      ", occurs 6 times\n",
      "1 occurs 1 times\n",
      "2 occurs 1 times\n",
      "3 occurs 1 times\n",
      "n occurs 2 times\n",
      "e occurs 1 times\n",
      "t occurs 1 times\n",
      "j occurs 2 times\n",
      "s occurs 2 times\n",
      "v occurs 1 times\n",
      "p occurs 1 times\n",
      "r occurs 1 times\n",
      "i occurs 1 times\n",
      "# occurs 2 times\n",
      "! occurs 2 times\n",
      "a occurs 3 times\n",
      "b occurs 1 times\n",
      "c occurs 1 times\n",
      ", occurs 6 times\n",
      "1 occurs 1 times\n",
      "2 occurs 1 times\n",
      "3 occurs 1 times\n",
      "n occurs 2 times\n",
      "e occurs 1 times\n",
      "t occurs 1 times\n",
      "j occurs 2 times\n",
      "s occurs 2 times\n",
      "v occurs 1 times\n",
      "p occurs 1 times\n",
      "r occurs 1 times\n",
      "i occurs 1 times\n",
      "g occurs 1 times\n",
      "# occurs 2 times\n",
      "! occurs 2 times\n",
      "a occurs 3 times\n",
      "b occurs 1 times\n",
      "c occurs 1 times\n",
      ", occurs 6 times\n",
      "1 occurs 1 times\n",
      "2 occurs 1 times\n",
      "3 occurs 1 times\n",
      "n occurs 2 times\n",
      "e occurs 1 times\n",
      "t occurs 1 times\n",
      "j occurs 2 times\n",
      "s occurs 2 times\n",
      "v occurs 1 times\n",
      "p occurs 2 times\n",
      "r occurs 1 times\n",
      "i occurs 1 times\n",
      "g occurs 1 times\n",
      "# occurs 2 times\n",
      "! occurs 2 times\n",
      "a occurs 3 times\n",
      "b occurs 1 times\n",
      "c occurs 1 times\n",
      ", occurs 6 times\n",
      "1 occurs 1 times\n",
      "2 occurs 1 times\n",
      "3 occurs 1 times\n",
      "n occurs 2 times\n",
      "e occurs 1 times\n",
      "t occurs 1 times\n",
      "j occurs 2 times\n",
      "s occurs 2 times\n",
      "v occurs 1 times\n",
      "p occurs 2 times\n",
      "r occurs 1 times\n",
      "i occurs 1 times\n",
      "g occurs 1 times\n",
      "y occurs 1 times\n",
      "# occurs 2 times\n",
      "! occurs 2 times\n",
      "a occurs 3 times\n",
      "b occurs 1 times\n",
      "c occurs 1 times\n",
      ", occurs 6 times\n",
      "1 occurs 1 times\n",
      "2 occurs 1 times\n",
      "3 occurs 1 times\n",
      "n occurs 2 times\n",
      "e occurs 1 times\n",
      "t occurs 2 times\n",
      "j occurs 2 times\n",
      "s occurs 2 times\n",
      "v occurs 1 times\n",
      "p occurs 2 times\n",
      "r occurs 1 times\n",
      "i occurs 1 times\n",
      "g occurs 1 times\n",
      "y occurs 1 times\n",
      "# occurs 2 times\n",
      "! occurs 2 times\n",
      "a occurs 3 times\n",
      "b occurs 1 times\n",
      "c occurs 1 times\n",
      ", occurs 6 times\n",
      "1 occurs 1 times\n",
      "2 occurs 1 times\n",
      "3 occurs 1 times\n",
      "n occurs 2 times\n",
      "e occurs 1 times\n",
      "t occurs 2 times\n",
      "j occurs 2 times\n",
      "s occurs 2 times\n",
      "v occurs 1 times\n",
      "p occurs 2 times\n",
      "r occurs 1 times\n",
      "i occurs 1 times\n",
      "g occurs 1 times\n",
      "y occurs 1 times\n",
      "h occurs 1 times\n",
      "# occurs 2 times\n",
      "! occurs 2 times\n",
      "a occurs 3 times\n",
      "b occurs 1 times\n",
      "c occurs 1 times\n",
      ", occurs 6 times\n",
      "1 occurs 1 times\n",
      "2 occurs 1 times\n",
      "3 occurs 1 times\n",
      "n occurs 2 times\n",
      "e occurs 1 times\n",
      "t occurs 2 times\n",
      "j occurs 2 times\n",
      "s occurs 2 times\n",
      "v occurs 1 times\n",
      "p occurs 2 times\n",
      "r occurs 1 times\n",
      "i occurs 1 times\n",
      "g occurs 1 times\n",
      "y occurs 1 times\n",
      "h occurs 1 times\n",
      "o occurs 1 times\n",
      "# occurs 2 times\n",
      "! occurs 2 times\n",
      "a occurs 3 times\n",
      "b occurs 1 times\n",
      "c occurs 1 times\n",
      ", occurs 6 times\n",
      "1 occurs 1 times\n",
      "2 occurs 1 times\n",
      "3 occurs 1 times\n",
      "n occurs 3 times\n",
      "e occurs 1 times\n",
      "t occurs 2 times\n",
      "j occurs 2 times\n",
      "s occurs 2 times\n",
      "v occurs 1 times\n",
      "p occurs 2 times\n",
      "r occurs 1 times\n",
      "i occurs 1 times\n",
      "g occurs 1 times\n",
      "y occurs 1 times\n",
      "h occurs 1 times\n",
      "o occurs 1 times\n"
     ]
    }
   ],
   "source": [
    "def List (text):\n",
    "  count = {}\n",
    "  for ch in text:\n",
    "    # don't count frequency of spaces\n",
    "    if ch == ' ' or ch == '\\t':\n",
    "      continue\n",
    "    # don't count frequency of commas\n",
    "    #if ch == ',':\n",
    "      #continue\n",
    "    # If char already in dictionary increment count\n",
    "    # otherwise add char as key and 1 as value\n",
    "    if ch in count:\n",
    "      count[ch] += 1\n",
    "    else:\n",
    "      count[ch] = 1\n",
    "    for k, v in count.items():\n",
    "      print('{} occurs {} times'.format(k,v))\n",
    "\n",
    "List ('##!!abc,1,2,3,n,e,tjs java spring python')"
   ]
  },
  {
   "cell_type": "markdown",
   "metadata": {},
   "source": [
    "### Commentary:\n",
    "\n",
    "### Limitations: "
   ]
  },
  {
   "cell_type": "markdown",
   "metadata": {},
   "source": [
    "-------------------------------------------------------------------------------------------------------------------------"
   ]
  },
  {
   "cell_type": "markdown",
   "metadata": {},
   "source": [
    "## Method 4: Count-v3\n",
    "\n",
    "#### This method was sourced from the following source:\n",
    "\n",
    "https://stackoverflow.com/questions/24878174/how-to-count-digits-letters-spaces-for-a-string-in-python"
   ]
  },
  {
   "cell_type": "code",
   "execution_count": 12,
   "metadata": {},
   "outputs": [
    {
     "name": "stdout",
     "output_type": "stream",
     "text": [
      "Enter a list: asfds\n",
      "{'a': 1, 's': 2, 'f': 1, 'd': 1}\n"
     ]
    }
   ],
   "source": [
    "word = input (\"Enter a list: \")\n",
    "\n",
    "#List = (1,2,3,4,a,b,c,)\n",
    "#Alphabet=['a','b','c','d','e','f','g','h','i','j','k','l','m','n','o','p','q','r','s','t','u','v','w','x','y','z']\n",
    "\n",
    "def char_frequency (List):\n",
    "\n",
    "    dict = {}\n",
    "    for n in List:\n",
    "        keys = dict.keys()\n",
    "        if n in keys:\n",
    "            dict[n] += 1\n",
    "        else:\n",
    "            dict[n] = 1\n",
    "    return dict\n",
    "\n",
    "print(char_frequency(word))"
   ]
  },
  {
   "cell_type": "markdown",
   "metadata": {},
   "source": [
    "### Commentary:\n",
    "\n",
    "- works for numbers and letters\n",
    "\n",
    "- counts ',' as a character; does not recognise words, just letters and numbers\n",
    "\n",
    "### Limitations: \n",
    "\n"
   ]
  },
  {
   "cell_type": "markdown",
   "metadata": {},
   "source": [
    "-------------------------------------------------------------------------------------------------------------------------"
   ]
  },
  {
   "cell_type": "markdown",
   "metadata": {},
   "source": [
    "## Method 5: Count-v6\n",
    "\n",
    "#### This method was sourced from the following source:\n",
    "    \n",
    "https://www.javatpoint.com/python-program-to-find-the-frequency-of-each-element-in-the-array"
   ]
  },
  {
   "cell_type": "code",
   "execution_count": 15,
   "metadata": {},
   "outputs": [
    {
     "name": "stdout",
     "output_type": "stream",
     "text": [
      "--------------------------\n",
      " Element     |   Frequency\n",
      "--------------------------\n",
      "      1      |     2\n",
      "      2      |     4\n",
      "      8      |     1\n",
      "      3      |     1\n",
      "      5      |     1\n",
      "    123      |     1\n",
      "      a      |     1\n",
      "      b      |     1\n",
      "      !      |     1\n",
      "--------------------------\n"
     ]
    }
   ],
   "source": [
    "#Initialize array     \n",
    "arr = [1, 2, 8, 3, 2, 2, 2, 5, 1,123,'a','b','!'];     \n",
    "\n",
    "#Array fr will store frequencies of element    \n",
    "fr = [None] * len(arr);    \n",
    "visited = -1;    \n",
    "         \n",
    "for i in range(0, len (arr)):    \n",
    "    count = 1;    \n",
    "    for j in range(i + 1, len (arr)):    \n",
    "        if(arr[i] == arr[j]):    \n",
    "            count = count + 1;    \n",
    "\n",
    "#To avoid counting same element again    \n",
    "            fr[j] = visited;    \n",
    "                    \n",
    "    if (fr[i] != visited):    \n",
    "        fr[i] = count;    \n",
    "         \n",
    "#Displays the frequency of each element present in array    \n",
    "print (\"--------------------------\");    \n",
    "print (\" Element     |   Frequency\");    \n",
    "print (\"--------------------------\");    \n",
    "\n",
    "for i in range(0, len(fr)):    \n",
    "    if (fr[i] != visited):    \n",
    "        print((\"    \" + str (arr[i]        ).rjust(3)) + \"      |    \" + str(fr[i]).rjust(2));    \n",
    "\n",
    "print(\"--------------------------\");    \n"
   ]
  },
  {
   "cell_type": "markdown",
   "metadata": {},
   "source": [
    "### Commentary:\n",
    "\n",
    "### Limitations: "
   ]
  },
  {
   "cell_type": "markdown",
   "metadata": {},
   "source": [
    "-------------------------------------------------------------------------------------------------------------------------"
   ]
  },
  {
   "cell_type": "markdown",
   "metadata": {},
   "source": [
    "## Method 6: Count-v5\n",
    "\n",
    "#### This method was sourced from the following source:\n",
    "\n",
    "https://www.w3resource.com/python-exercises/python-conditional-exercise-14.php\n",
    "    "
   ]
  },
  {
   "cell_type": "code",
   "execution_count": 16,
   "metadata": {},
   "outputs": [
    {
     "name": "stdout",
     "output_type": "stream",
     "text": [
      "Input a string: fasddsf\n",
      "Letters 7\n",
      "Digits 0\n"
     ]
    }
   ],
   "source": [
    "s = input(\"Input a string: \")\n",
    "d=l=0\n",
    "for c in s:\n",
    "    if c.isdigit():\n",
    "        d=d+1\n",
    "    elif c.isalpha():\n",
    "        l=l+1\n",
    "    else:\n",
    "        pass\n",
    "        \n",
    "print(\"Letters\", l)\n",
    "print(\"Digits\", d)"
   ]
  },
  {
   "cell_type": "markdown",
   "metadata": {},
   "source": [
    "### Commentary:\n",
    "\n",
    "### Limitations: "
   ]
  },
  {
   "cell_type": "markdown",
   "metadata": {},
   "source": [
    "-------------------------------------------------------------------------------------------------------------------------"
   ]
  },
  {
   "cell_type": "markdown",
   "metadata": {},
   "source": [
    "## Method 7: Count-v9\n",
    "\n",
    "#### This method was sourced from the following source:\n",
    "\n",
    "https://www.javatpoint.com/python-program-to-find-the-frequency-of-each-element-in-the-array"
   ]
  },
  {
   "cell_type": "code",
   "execution_count": 18,
   "metadata": {},
   "outputs": [
    {
     "name": "stdout",
     "output_type": "stream",
     "text": [
      "--------------------------\n",
      " Element     |   Frequency\n",
      "--------------------------\n",
      "      1      |     2\n",
      "      2      |     4\n",
      "      8      |     1\n",
      "      3      |     1\n",
      "      5      |     1\n",
      "    123      |     1\n",
      "      a      |     1\n",
      "      b      |     1\n",
      "      !      |     1\n",
      "--------------------------\n"
     ]
    }
   ],
   "source": [
    "#Initialize array     \n",
    "arr = [1, 2, 8, 3, 2, 2, 2, 5, 1,123,'a','b','!'];     \n",
    "\n",
    "#Array fr will store frequencies of element    \n",
    "fr = [None] * len(arr);    \n",
    "visited = -1;    \n",
    "         \n",
    "for i in range(0, len (arr)):    \n",
    "    count = 1;    \n",
    "    for j in range(i + 1, len (arr)):    \n",
    "        if(arr[i] == arr[j]):    \n",
    "            count = count + 1;    \n",
    "\n",
    "#To avoid counting same element again    \n",
    "            fr[j] = visited;    \n",
    "                    \n",
    "    if (fr[i] != visited):    \n",
    "        fr[i] = count;    \n",
    "         \n",
    "#Displays the frequency of each element present in array    \n",
    "print (\"--------------------------\");    \n",
    "print (\" Element     |   Frequency\");    \n",
    "print (\"--------------------------\");    \n",
    "\n",
    "for i in range(0, len(fr)):    \n",
    "    if (fr[i] != visited):    \n",
    "        print((\"    \" + str (arr[i]        ).rjust(3)) + \"      |    \" + str(fr[i]).rjust(2));    \n",
    "\n",
    "print(\"--------------------------\");    \n"
   ]
  },
  {
   "cell_type": "markdown",
   "metadata": {},
   "source": [
    "### Commentary:\n",
    "\n",
    "Working Code - Python code to count the number of occurrences of numbers only.  Will tolerate letters in ''\n",
    "\n",
    "### Limitations: "
   ]
  },
  {
   "cell_type": "markdown",
   "metadata": {},
   "source": [
    "----------------------------------------------------------------------------------------------------------------------------"
   ]
  },
  {
   "cell_type": "markdown",
   "metadata": {},
   "source": [
    "## Method 8: Count-v10\n",
    "\n",
    "#### This method was sourced from the following source(s):\n",
    "\n",
    "https://programminghistorian.org/en/lessons/counting-frequencies\n",
    "\n",
    "https://www.google.com/search?client=firefox-b-d&q=take+a+list+of+numbers%2C+words+and+characters+in+python+and+count+the+occurences+of+each\n"
   ]
  },
  {
   "cell_type": "code",
   "execution_count": 19,
   "metadata": {},
   "outputs": [
    {
     "name": "stdout",
     "output_type": "stream",
     "text": [
      "--------------------------\n",
      " Element     |   Frequency\n",
      "--------------------------\n",
      "The number of occurences of each character:\n",
      "[(123, 1), (1, 1), (2, 1), (3, 1), ('it', 1), ('was', 1), ('#', 1), ('a', 1), ('b', 1), ('c', 1)]\n",
      "--------------------------\n"
     ]
    }
   ],
   "source": [
    "List = [123, 1, 2, 3 ,'it','was','#', 'a', 'b', 'c']\n",
    "\n",
    "wordfreq = []\n",
    "for w in List:\n",
    "    wordfreq.append(List.count(w))\n",
    "\n",
    "#Displays the frequency of each element present in array    \n",
    "print (\"--------------------------\");\n",
    "print (\" Element     |   Frequency\");\n",
    "print (\"--------------------------\");  \n",
    "\n",
    "print(\"The number of occurences of each character:\\n\" + str (list (zip (List, wordfreq))))\n",
    "\n",
    "    #print((\"    \" + str (arr[i]        ).rjust(3)) + \"      |    \" + str(fr[i]).rjust(2));    \n",
    "\n",
    "    #print ((\"    \" + str (list (zip (List))) + \"      |    \" + str (list (zip (wordfreq))))\n",
    "\n",
    "print (\"--------------------------\")"
   ]
  },
  {
   "cell_type": "markdown",
   "metadata": {},
   "source": [
    "### Commentary:\n",
    "\n",
    "Working Code\n",
    "\n",
    "Python code to count the number of occurrences for a specified number.  \n",
    "\n",
    "Use list. count() to count the number of occurrences of one element. Use list. count(value) to count the number of occurrences of value \n",
    "\n",
    "\n",
    "### Limitations: \n",
    "\n",
    "Does not tolerate characters ('not defined').  \n",
    "Needs '' around letters\n"
   ]
  },
  {
   "cell_type": "markdown",
   "metadata": {},
   "source": [
    "----------------------------------------------------------------------------------------------------------------------------"
   ]
  },
  {
   "cell_type": "markdown",
   "metadata": {},
   "source": [
    "### Method 9: Count-v13a\n",
    "\n",
    "#### This method was sourced from the following source:\n",
    "\n",
    "https://programminghistorian.org/en/lessons/counting-frequencies"
   ]
  },
  {
   "cell_type": "code",
   "execution_count": 42,
   "metadata": {},
   "outputs": [
    {
     "name": "stdout",
     "output_type": "stream",
     "text": [
      "\n",
      "The number of occurences of each character:\n",
      "\n",
      "--------------------------------------------------------------------------------------------------\n",
      "\n",
      "[(123, 1), (1, 1), (2, 1), (3, 1), ('it', 1), ('was', 1), ('#', 1), ('a', 1), ('b', 1), ('c', 1)]\n",
      "\n",
      "--------------------------------------------------------------------------------------------------\n"
     ]
    }
   ],
   "source": [
    "List = [123, 1, 2, 3 ,'it','was','#', 'a', 'b', 'c']\n",
    "\n",
    "wordfreq = []\n",
    "for w in List:\n",
    "    wordfreq.append(List.count(w))\n",
    "\n",
    "#Displays the frequency of each element present in array    \n",
    "\n",
    "print (\"\")\n",
    "print(\"The number of occurences of each character:\\n\")\n",
    "print (\"--------------------------------------------------------------------------------------------------\")\n",
    "print (\"\")\n",
    "print (str (list (zip (List, wordfreq))))\n",
    "print (\"\")\n",
    "#print((\"    \" + str (arr[i]        ).rjust(3)) + \"      |    \" + str(fr[i]).rjust(2));    \n",
    "#print ((\"    \" + str (list (zip (List))) + \"      |    \" + str (list (zip (wordfreq))))\n",
    "\n",
    "print (\"--------------------------------------------------------------------------------------------------\")"
   ]
  },
  {
   "cell_type": "markdown",
   "metadata": {},
   "source": [
    "### Commentary:\n",
    "\n",
    "count-list-items-1.pywordstring = 'it was the best of times it was the worst of times 'wordstring += 'it was the age of wisdom it was the age of foolishness'wordlist = wordstring.split()wordfreq = []for w in wordlist:wordfreq.append(wordlist.count(w))print(\"String\\n\" + wordstring +\"\\n\")print(\"List\\n\" + str(wordlist) + \"\\n\")print(\"Frequencies\\n\" + str(wordfreq) + \"\\n\")print(\"Pairs\\n\" + str(list(zip(wordlist, wordfreq))))\n",
    "\n",
    "Working Code - DOES THE JOB!! .. Needs to be prettied up\n",
    "\n",
    "### Limitations: "
   ]
  },
  {
   "cell_type": "markdown",
   "metadata": {},
   "source": [
    "----------------------------------------------------------------------------------------------------------------------------"
   ]
  },
  {
   "cell_type": "markdown",
   "metadata": {},
   "source": [
    "### Method 10: Count-v13\n",
    "\n",
    "#### This method was sourced from the following source:\n",
    "\n",
    "https://programminghistorian.org/en/lessons/counting-frequencies"
   ]
  },
  {
   "cell_type": "code",
   "execution_count": 46,
   "metadata": {},
   "outputs": [
    {
     "name": "stdout",
     "output_type": "stream",
     "text": [
      "List:\n",
      "['123', '1', '2', '3', 'it', 'was', 'the', 'best', 'of', 'times', 'it', 'was', 'the', 'worst', 'of', 'times', '!', '#']\n",
      "\n",
      "Frequencies:\n",
      "[1, 1, 1, 1, 2, 2, 2, 1, 2, 2, 2, 2, 2, 1, 2, 2, 1, 1]\n",
      "\n",
      "The number of occurences of each character:\n",
      "[('123', 1), ('1', 1), ('2', 1), ('3', 1), ('it', 2), ('was', 2), ('the', 2), ('best', 1), ('of', 2), ('times', 2), ('it', 2), ('was', 2), ('the', 2), ('worst', 1), ('of', 2), ('times', 2), ('!', 1), ('#', 1)]\n"
     ]
    }
   ],
   "source": [
    "wordstring = '123 1 2 3 it was the best of times it was the worst of times ! # '\n",
    "\n",
    "wordlist = wordstring.split()\n",
    "#wordlist = [123, 1, 2, 3 ,'it','was','#', 'a', 'b', 'c']\n",
    "\n",
    "wordfreq = []\n",
    "for w in wordlist:\n",
    "    wordfreq.append(wordlist.count(w))\n",
    "\n",
    "#print(\"String:\\n\" + wordstring +\"\\n\")\n",
    "print(\"List:\\n\" + str(wordlist) + \"\\n\")\n",
    "print(\"Frequencies:\\n\" + str(wordfreq) + \"\\n\")\n",
    "#print(\"Pairs:\\n\" + str(list(zip(wordlist, wordfreq))))\n",
    "print(\"The number of occurences of each character:\\n\" + str (list (zip (wordlist, wordfreq))))"
   ]
  },
  {
   "cell_type": "markdown",
   "metadata": {},
   "source": [
    "### Commentary:\n",
    "\n",
    "- count-list-items-1.pywordstring = 'it was the best of times it was the worst of times 'wordstring += 'it was the age of wisdom it was the age of foolishness'wordlist = wordstring.split()wordfreq = []for w in wordlist:wordfreq.append(wordlist.count(w))print(\"String\\n\" + wordstring +\"\\n\")print(\"List\\n\" + str(wordlist) + \"\\n\")print(\"Frequencies\\n\" + str(wordfreq) + \"\\n\")print(\"Pairs\\n\" + str(list(zip(wordlist, wordfreq))))\n",
    "\n",
    "- Converts a sentence to a list and counts each occurence. Text converted as a ''\n",
    "- Outputs in sentence format not one per line\n",
    "\n",
    "### Limitations: "
   ]
  },
  {
   "cell_type": "markdown",
   "metadata": {},
   "source": [
    "--------------------------------------------------------------------------------------------------------------------------"
   ]
  },
  {
   "cell_type": "markdown",
   "metadata": {},
   "source": [
    "## Method 11: Count-v13b\n",
    "\n",
    "#### This method was sourced from the following source:\n",
    "\n",
    "#https://programminghistorian.org/en/lessons/counting-frequencies\n",
    "    "
   ]
  },
  {
   "cell_type": "code",
   "execution_count": 48,
   "metadata": {},
   "outputs": [
    {
     "name": "stdout",
     "output_type": "stream",
     "text": [
      "--------------------------\n",
      " Element     |   Frequency\n",
      "--------------------------\n",
      "List\n",
      "['123', '1', '2', '3', 'it', 'was', 'the', 'best', 'of', 'times', 'it', 'was', 'the', 'worst', 'of', 'times', '!', '#']\n",
      "\n",
      "Frequencies\n",
      "[1, 1, 1, 1, 1, 1, 1, 1, 1, 1]\n",
      "\n",
      "The number of occurences of each character:\n",
      "[(123, 1), (1, 1), (2, 1), (3, 1), ('it', 1), ('was', 1), ('#', 1), ('a', 1), ('b', 1), ('c', 1)]\n",
      "[(123, 1), (1, 1), (2, 1), (3, 1), ('it', 1), ('was', 1), ('#', 1), ('a', 1), ('b', 1), ('c', 1)]\n"
     ]
    }
   ],
   "source": [
    "List = [123, 1, 2, 3 , 'it','was','#', 'a', 'b', 'c']\n",
    "\n",
    "wordfreq = []\n",
    "for w in List:\n",
    "    wordfreq.append(List.count(w))\n",
    "\n",
    "#Displays the frequency of each element present in array    \n",
    "print (\"--------------------------\");\n",
    "print (\" Element     |   Frequency\");\n",
    "print (\"--------------------------\");  \n",
    "\n",
    "#print(\"String\\n\" + wordstring +\"\\n\")\n",
    "print(\"List\\n\" + str(wordlist) + \"\\n\")\n",
    "print(\"Frequencies\\n\" + str(wordfreq) + \"\\n\")\n",
    "#print(\"Pairs\\n\" + str(list(zip(wordlist, wordfreq))))\n",
    "\n",
    "print(\"The number of occurences of each character:\\n\" + str (list (zip (List, wordfreq))))\n",
    "#print(\"     \" , str (list (zip (List))),:\\n\" )\n",
    "print(str (list (zip (List , wordfreq))))\n",
    "#print (str (list (zip (List, wordfreq))))\n",
    "#print((\"    \" + str (arr[i]        ).rjust(3)) + \"      |    \" + str(fr[i]).rjust(2));    \n",
    "#print ((\"    \" + str (list (zip (List))) + \"      |    \" + str (list (zip (wordfreq))))\n",
    "#print ((\"    \" + str (list (zip (List))    )) + \"      |    \" + str (wordfreq));\n",
    "#print  ((\"    \" + str (list (zip (List, wordfreq)    )) \n",
    "#print (w , count.w)\n",
    "#print (\"--------------------------\");"
   ]
  },
  {
   "cell_type": "markdown",
   "metadata": {},
   "source": [
    "### Commentary:\n",
    "count-list-items-1.pywordstring = 'it was the best of times it was the worst of times 'wordstring += 'it was the age of wisdom it was the age of foolishness'wordlist = wordstring.split()wordfreq = []for w in wordlist:wordfreq.append(wordlist.count(w))print(\"String\\n\" + wordstring +\"\\n\")print(\"List\\n\" + str(wordlist) + \"\\n\")print(\"Frequencies\\n\" + str(wordfreq) + \"\\n\")print(\"Pairs\\n\" + str(list(zip(wordlist, wordfreq))))\n",
    "\n",
    "Working Code - DOES THE JOB!! .. Needs to be prettied up\n",
    "\n",
    "### Limitations: "
   ]
  },
  {
   "cell_type": "markdown",
   "metadata": {},
   "source": [
    "----------------------------------------------------------------------------------------------------------------------------"
   ]
  },
  {
   "cell_type": "code",
   "execution_count": null,
   "metadata": {},
   "outputs": [],
   "source": []
  }
 ],
 "metadata": {
  "kernelspec": {
   "display_name": "Python 3",
   "language": "python",
   "name": "python3"
  },
  "language_info": {
   "codemirror_mode": {
    "name": "ipython",
    "version": 3
   },
   "file_extension": ".py",
   "mimetype": "text/x-python",
   "name": "python",
   "nbconvert_exporter": "python",
   "pygments_lexer": "ipython3",
   "version": "3.8.3"
  }
 },
 "nbformat": 4,
 "nbformat_minor": 4
}
