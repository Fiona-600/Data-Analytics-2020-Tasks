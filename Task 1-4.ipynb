{
 "cells": [
  {
   "cell_type": "markdown",
   "metadata": {},
   "source": [
    "#### Prepared by: Fiona Lee - October 2020\n",
    "#### Higher Diploma in Science - Fundamentals of Data Analysis 2020/21\n",
    "***"
   ]
  },
  {
   "cell_type": "markdown",
   "metadata": {},
   "source": [
    "### Fundamentals of Data Analysis - Task 1:\n",
    "\n",
    "Write a Python function called 'counts' that takes a list as an input and returns a dictionary of unique items in the list as keys and the number oftimes each item appears as values.  So, the input ['A','A','B','C','A'] should have output {'A': 3,'B': 1,'C': 1}.  \n",
    "\n",
    "Your code should not depend on  any  module  from  the  standard  library or  otherwise.   You  should  research the task first and include a description with references of your algorithm in the notebook."
   ]
  },
  {
   "cell_type": "markdown",
   "metadata": {},
   "source": [
    "### Approach:\n",
    "\n",
    "My approach to this task was to firstly research various methods which produced the required output and to determine the most efficient methods.  I took the methods from the sites referenced below and modified the code to take the following list as an input and to standardise the use of keywords below for consistency:\n",
    "\n",
    "List = [123, 1, 2, 3 ,'it','was','#', 'a', 'b', 'c', 1 , 2]\n",
    "\n",
    "Key words:\n",
    "\n",
    "- 'List' to denote the input list\n",
    "- 'Frequency' to denote the occurences of the unique item in the list\n",
    "- 'Count' stores the variable value of 'Frequency'\n",
    "- 'Counter' marks variables as already counted or visited in the loop"
   ]
  },
  {
   "cell_type": "markdown",
   "metadata": {},
   "source": [
    "### Conclusion:\n",
    "I concluded that method 1 was the most efficient method to produce the desired outcome but all 3 methods were effective."
   ]
  },
  {
   "cell_type": "markdown",
   "metadata": {},
   "source": [
    "## Method 1: Simple Method using Count () \n",
    "***\n",
    "\n",
    "#### The following sources were referred to:\n",
    "\n",
    "https://programminghistorian.org/en/lessons/counting-frequencies\n",
    "    "
   ]
  },
  {
   "cell_type": "code",
   "execution_count": 1,
   "metadata": {},
   "outputs": [
    {
     "name": "stdout",
     "output_type": "stream",
     "text": [
      "\n",
      "RESULTS:\n",
      "\n",
      "List:\n",
      "[123, 1, 2, 3, 'it', 'was', '#', 'a', 'b', 'c', 1, 2] \n",
      "\n",
      "Frequencies:\n",
      "[1, 2, 2, 1, 1, 1, 1, 1, 1, 1, 2, 2] \n",
      "\n",
      "The frequency of each character in the List:\n",
      "[(123, 1), (1, 2), (2, 2), (3, 1), ('it', 1), ('was', 1), ('#', 1), ('a', 1), ('b', 1), ('c', 1), (1, 2), (2, 2)] \n",
      "\n"
     ]
    }
   ],
   "source": [
    "List = [123, 1, 2, 3 ,'it','was','#', 'a', 'b', 'c' ,1 , 2]\n",
    "\n",
    "def counts():\n",
    "    Frequency = [] #Create a blank dictionary to store frequency of each element \n",
    "    for i in List: #Iterate through the list\n",
    "        Frequency.append(List.count(i)) #Add the frequency of the current value of i in 'List' to 'Frequency'\n",
    "\n",
    "    #Displays the frequency of each element present in List:   \n",
    "    print (\"\\nRESULTS:\\n\")\n",
    "    print(\"List:\\n\" + str(List),\"\\n\")#Print the original 'List'\n",
    "    print(\"Frequencies:\\n\" + str(Frequency),\"\\n\") #Print the frequency of the items in the 'list'\n",
    "    print(\"The frequency of each character in the List:\")\n",
    "    print (str (list (zip (List, Frequency))),\"\\n\") #Print the List:Frequency as pairs\n",
    "\n",
    "counts ()"
   ]
  },
  {
   "cell_type": "markdown",
   "metadata": {},
   "source": [
    "### Commentary: \n",
    "This method was the cleanest of all the methods explored to produce the frequency of each element in a list.  This method will count the frequency of numbers, letters, words and characters in a list.\n",
    "\n",
    "### Limitations:\n",
    "1. Characters and Letters must be listed in \"\" to be counted.  Otherwise characters and letters are 'name not  defined'.\n",
    "2. This method takes the unique character as the item in the list e.g. '123', 'was' etc. and not the recurrance of each recurring number or character.\n"
   ]
  },
  {
   "cell_type": "markdown",
   "metadata": {},
   "source": [
    "<BR>"
   ]
  },
  {
   "cell_type": "markdown",
   "metadata": {},
   "source": [
    "## Method 2: Using a nested 'for' loop to run through the list\n",
    "***\n",
    "\n",
    "The following sources were referred to:\n",
    "\n",
    "https://www.javatpoint.com/python-program-to-find-the-frequency-of-each-element-in-the-array"
   ]
  },
  {
   "cell_type": "code",
   "execution_count": 2,
   "metadata": {},
   "outputs": [
    {
     "name": "stdout",
     "output_type": "stream",
     "text": [
      "\n",
      "RESULT:\n",
      "\n",
      "--------------------------\n",
      " Element     |   Frequency\n",
      "--------------------------\n",
      "    123      |     1\n",
      "      1      |     2\n",
      "      2      |     2\n",
      "      3      |     1\n",
      "     it      |     1\n",
      "    was      |     1\n",
      "      #      |     1\n",
      "      a      |     1\n",
      "      b      |     1\n",
      "      c      |     1\n",
      "--------------------------\n"
     ]
    }
   ],
   "source": [
    "# Define the List: \n",
    "List = [123, 1, 2, 3 ,'it','was','#', 'a', 'b', 'c' , 1 , 2];  \n",
    "\n",
    "# Array 'Frequency' will store frequencies/count of each element \n",
    "# Loop through the array and count the occurrence of each element as frequency and store it in another array fr. \n",
    "\n",
    "def counts1():\n",
    "    Frequency = [None] * len (List);\n",
    "    # Variable 'counter' will be initialized with the value -1. \n",
    "    # (Required to mark an element visited to avoid counting the same element again)\n",
    "    counter = -1;    \n",
    "    \n",
    "    # The frequency of an element can be counted using two loops. \n",
    "    # Loop 1 - Selects an element from an array.\n",
    "    # Loop 2 - Compares the selected element with the rest of the array.   \n",
    "\n",
    "    #Loop 1:\n",
    "    for i in range(0, len (List)):   \n",
    "    \n",
    "        # Initialize count to 1 in the Loop 1 to maintain a count of each element: \n",
    "        count = 1; \n",
    "        \n",
    "        # Loop 2:\n",
    "        for j in range(i + 1, len (List)): \n",
    "              \n",
    "            # Increment the value of 'count' by 1 if a duplicate element is found in the Loop 2 since we have counted \n",
    "            # this element and didn't want to count it again: \n",
    "            if (List[i] == List[j]):    \n",
    "                count = count + 1;    \n",
    "  \n",
    "                # Mark this element as visited by setting 'Frequency [j]' = counter to avoid counting same element again:  \n",
    "                Frequency [j] = counter;    \n",
    "\n",
    "        #Store count of each element to 'Frequency':\n",
    "        if (Frequency [i] != counter):    \n",
    "            Frequency [i] = count;    \n",
    "         \n",
    "    #Display the frequency of each element present in 'List': \n",
    "    print (\"\")\n",
    "    print (\"RESULT:\")\n",
    "    print (\"\")\n",
    "    print (\"--------------------------\");    \n",
    "    print (\" Element     |   Frequency\");    \n",
    "    print (\"--------------------------\");    \n",
    "     \n",
    "    for i in range(0, len(Frequency)):    \n",
    "        if (Frequency [i] != counter):    \n",
    "            print((\"    \" + str (List[i]        ).rjust(3)) + \"      |    \" + str(Frequency [i]).rjust(2));    \n",
    "\n",
    "    print(\"--------------------------\");  \n",
    "    \n",
    "counts1()"
   ]
  },
  {
   "cell_type": "markdown",
   "metadata": {},
   "source": [
    "### Commentary: \n",
    "The format of this output is cleaner, but it is a more complicated method to produce the same result as Method 1. I added 'rjust ()' to the the original solution in order to improve the presentation of the final output and changed the variables and applied to 'List' above for consistency.\n",
    "\n",
    "This method will count the frequency of numbers, letters, words and characters in a list.\n",
    "\n",
    "### Limitations:\n",
    "As in method 1, characters and letters must be listed in ' ' to be counted and the method counts elements and not individual characters."
   ]
  },
  {
   "cell_type": "markdown",
   "metadata": {},
   "source": [
    "<BR>"
   ]
  },
  {
   "cell_type": "markdown",
   "metadata": {},
   "source": [
    "## Method 2a: Simplified version of Method 2\n",
    "***"
   ]
  },
  {
   "cell_type": "code",
   "execution_count": 3,
   "metadata": {},
   "outputs": [
    {
     "name": "stdout",
     "output_type": "stream",
     "text": [
      "\n",
      "The Frequency of each character in the List:\n",
      "\n",
      " {123: 1, 1: 2, 2: 2, 3: 1, 'it': 1, 'was': 1, '#': 1, 'a': 1, 'b': 1, 'c': 1} \n",
      "\n",
      "\n",
      "RESULT TABLE:\n",
      "\n",
      "--------------------------------\n",
      " Element        |   Frequency\n",
      "--------------------------------\n",
      " 123            |       1        \n",
      "   1            |       2        \n",
      "   2            |       2        \n",
      "   3            |       1        \n",
      " it             |       1        \n",
      " was            |       1        \n",
      " #              |       1        \n",
      " a              |       1        \n",
      " b              |       1        \n",
      " c              |       1        \n"
     ]
    }
   ],
   "source": [
    "List = [123, 1, 2, 3 ,'it','was','#', 'a', 'b', 'c' , 1 , 2];  \n",
    "\n",
    "def counts2():\n",
    "\n",
    "    Frequency1 = {} # create a blank dictionary to store frequency of each element \n",
    "    for i in List: # Iterate through the elements for frequency\n",
    "\n",
    "        if i in Frequency1:  #check if the element in the 'List' is already in the dictionary\n",
    "        \n",
    "            Frequency1 [i] = Frequency1 [i] + 1  # incrementing the count by 1 if already in dictionary\n",
    "        else:\n",
    "            Frequency1 [i] = 1 # Set count to 1 if first instance i.e not in the dictionary yet\n",
    "    \n",
    "    print(\"\\nThe Frequency of each character in the List:\")\n",
    "    print (\"\\n\",(Frequency1),\"\\n\\n\")    \n",
    "\n",
    "    #Display the frequency of each element present in 'List': \n",
    "    print (\"RESULT TABLE:\\n\")\n",
    "    print (\"--------------------------------\");    \n",
    "    print (\" Element        |   Frequency\");    \n",
    "    print (\"--------------------------------\");      \n",
    "    \n",
    "    for key, value in Frequency1.items():\n",
    "        print (((f\" {key:3}            |     {value:3}        \".format (key,value))).rjust(3)) # printing the elements frequencies\n",
    "\n",
    "counts2()"
   ]
  },
  {
   "cell_type": "markdown",
   "metadata": {},
   "source": [
    "<BR>\n",
    "\n",
    "## Method 3: Using dictionary method keys ()\n",
    "***\n",
    "\n",
    "The following sources were referred to:\n",
    "\n",
    "https://stackoverflow.com/questions/24878174/how-to-count-digits-letters-spaces-for-a-string-in-python"
   ]
  },
  {
   "cell_type": "code",
   "execution_count": 4,
   "metadata": {},
   "outputs": [
    {
     "name": "stdout",
     "output_type": "stream",
     "text": [
      "\n",
      "RESULT:\n",
      "\n",
      "The number of occurences of each character:\n",
      "\n",
      "{123: 1, 1: 2, 2: 2, 3: 1, 'it': 1, 'was': 1, '#': 1, 'a': 1, 'b': 1, 'c': 1} \n",
      "\n"
     ]
    }
   ],
   "source": [
    "List = [123, 1, 2, 3 ,'it','was','#', 'a', 'b', 'c' , 1 , 2]\n",
    "\n",
    "def Counts3():\n",
    "\n",
    "    dict = {}\n",
    "    for i in List:\n",
    "        keys = dict.keys ()\n",
    "        if i in keys:\n",
    "            dict[i] += 1\n",
    "        else:\n",
    "            dict[i] = 1\n",
    "    return dict\n",
    "\n",
    "print (\"\\nRESULT:\\n\")\n",
    "print(\"The number of occurences of each character:\\n\")\n",
    "print(Counts3(),\"\\n\")"
   ]
  },
  {
   "cell_type": "markdown",
   "metadata": {},
   "source": [
    "### Commentary: \n",
    "Method 3 produces a similar result to method 1 & 2 using a dictionary.   \n",
    "\n",
    "This method will count the frequency of numbers, letters, words and characters in a list.\n",
    "\n",
    "### Limitations:\n",
    "As in method 1 & 2, characters and letters must be listed in ' ' to be counted and the method counts elements and not individual characters."
   ]
  },
  {
   "cell_type": "markdown",
   "metadata": {},
   "source": [
    "<BR>"
   ]
  },
  {
   "cell_type": "markdown",
   "metadata": {},
   "source": [
    "## Method 4: Using dictionary method keys ()\n",
    "***\n",
    "This method was sourced from the following source:\n",
    "\n",
    "https://www.geeksforgeeks.org/counting-the-frequencies-in-a-list-using-dictionary-in-python/"
   ]
  },
  {
   "cell_type": "code",
   "execution_count": 13,
   "metadata": {},
   "outputs": [
    {
     "name": "stdout",
     "output_type": "stream",
     "text": [
      "\n",
      "RESULT:\n",
      "\n",
      "The number of occurences of each character:\n",
      "\n",
      "{123: 1, 1: 2, 2: 2, 3: 1, 'it': 1, 'was': 1, '#': 1, 'a': 1, 'b': 1, 'c': 1} \n",
      "\n",
      " 123 :  1\n",
      " 1 :  2\n",
      " 2 :  2\n",
      " 3 :  1\n"
     ]
    },
    {
     "ename": "TypeError",
     "evalue": "%d format: a number is required, not str",
     "output_type": "error",
     "traceback": [
      "\u001b[1;31m----------------------------------------------------------------------\u001b[0m",
      "\u001b[1;31mTypeError\u001b[0m                            Traceback (most recent call last)",
      "\u001b[1;32m<ipython-input-13-b07c3dfea45c>\u001b[0m in \u001b[0;36m<module>\u001b[1;34m\u001b[0m\n\u001b[0;32m     24\u001b[0m     \u001b[0mList\u001b[0m \u001b[1;33m=\u001b[0m\u001b[1;33m[\u001b[0m\u001b[1;36m123\u001b[0m\u001b[1;33m,\u001b[0m \u001b[1;36m1\u001b[0m\u001b[1;33m,\u001b[0m \u001b[1;36m2\u001b[0m\u001b[1;33m,\u001b[0m \u001b[1;36m3\u001b[0m \u001b[1;33m,\u001b[0m\u001b[1;34m'it'\u001b[0m\u001b[1;33m,\u001b[0m\u001b[1;34m'was'\u001b[0m\u001b[1;33m,\u001b[0m\u001b[1;34m'#'\u001b[0m\u001b[1;33m,\u001b[0m \u001b[1;34m'a'\u001b[0m\u001b[1;33m,\u001b[0m \u001b[1;34m'b'\u001b[0m\u001b[1;33m,\u001b[0m \u001b[1;34m'c'\u001b[0m \u001b[1;33m,\u001b[0m \u001b[1;36m1\u001b[0m \u001b[1;33m,\u001b[0m \u001b[1;36m2\u001b[0m\u001b[1;33m]\u001b[0m\u001b[1;33m\u001b[0m\u001b[1;33m\u001b[0m\u001b[0m\n\u001b[0;32m     25\u001b[0m     \u001b[0mprint\u001b[0m \u001b[1;33m(\u001b[0m\u001b[1;34m\"\\nRESULT:\\n\"\u001b[0m\u001b[1;33m)\u001b[0m\u001b[1;33m\u001b[0m\u001b[1;33m\u001b[0m\u001b[0m\n\u001b[1;32m---> 26\u001b[1;33m     \u001b[0mCounts4\u001b[0m\u001b[1;33m(\u001b[0m\u001b[1;33m)\u001b[0m\u001b[1;33m\u001b[0m\u001b[1;33m\u001b[0m\u001b[0m\n\u001b[0m",
      "\u001b[1;32m<ipython-input-13-b07c3dfea45c>\u001b[0m in \u001b[0;36mCounts4\u001b[1;34m()\u001b[0m\n\u001b[0;32m     17\u001b[0m     \u001b[0mprint\u001b[0m\u001b[1;33m(\u001b[0m\u001b[0mFrequency\u001b[0m\u001b[1;33m,\u001b[0m\u001b[1;34m\"\\n\"\u001b[0m\u001b[1;33m)\u001b[0m\u001b[1;33m\u001b[0m\u001b[1;33m\u001b[0m\u001b[0m\n\u001b[0;32m     18\u001b[0m     \u001b[1;32mfor\u001b[0m \u001b[0mkey\u001b[0m\u001b[1;33m,\u001b[0m \u001b[0mvalue\u001b[0m \u001b[1;32min\u001b[0m \u001b[0mFrequency\u001b[0m\u001b[1;33m.\u001b[0m\u001b[0mitems\u001b[0m\u001b[1;33m(\u001b[0m\u001b[1;33m)\u001b[0m\u001b[1;33m:\u001b[0m\u001b[1;33m\u001b[0m\u001b[1;33m\u001b[0m\u001b[0m\n\u001b[1;32m---> 19\u001b[1;33m         \u001b[0mprint\u001b[0m \u001b[1;33m(\u001b[0m\u001b[1;34m\"% d : % d\"\u001b[0m\u001b[1;33m%\u001b[0m\u001b[1;33m(\u001b[0m\u001b[0mkey\u001b[0m\u001b[1;33m,\u001b[0m \u001b[0mvalue\u001b[0m\u001b[1;33m)\u001b[0m\u001b[1;33m)\u001b[0m\u001b[1;33m\u001b[0m\u001b[1;33m\u001b[0m\u001b[0m\n\u001b[0m\u001b[0;32m     20\u001b[0m \u001b[1;33m\u001b[0m\u001b[0m\n\u001b[0;32m     21\u001b[0m \u001b[1;31m# Driver function\u001b[0m\u001b[1;33m\u001b[0m\u001b[1;33m\u001b[0m\u001b[1;33m\u001b[0m\u001b[0m\n",
      "\u001b[1;31mTypeError\u001b[0m: %d format: a number is required, not str"
     ]
    }
   ],
   "source": [
    "# Python program to count the frequency of elements in a list using a dictionary \n",
    "\n",
    "# Iterate over the list and use each distinct element of the list as a key of the dictionary and store\n",
    "# the corresponding count of that key as values. \n",
    "\n",
    "def Counts4(): \n",
    "  \n",
    "    # Creating an empty dictionary  \n",
    "    Frequency = {} \n",
    "    for i in List: \n",
    "        if (i in Frequency): \n",
    "            Frequency[i] += 1\n",
    "        else: \n",
    "            Frequency[i] = 1\n",
    "    \n",
    "    print(\"The number of occurences of each character:\\n\")         \n",
    "    print(Frequency,\"\\n\")\n",
    "    for key, value in Frequency.items():  \n",
    "        print (\"% d : % d\"%(key, value))\n",
    "  \n",
    "# Driver function \n",
    "if __name__ == \"__main__\":  \n",
    "    \n",
    "    List =[123, 1, 2, 3 ,'it','was','#', 'a', 'b', 'c' , 1 , 2]  \n",
    "    print (\"\\nRESULT:\\n\")\n",
    "    Counts4()"
   ]
  },
  {
   "cell_type": "markdown",
   "metadata": {},
   "source": [
    "### Commentary: \n",
    "Method 4 produces a similar result to method 1,2 & 3 for values only.  This method produces an error when presented with non numeric values. \n",
    "\n",
    "### Limitations:\n",
    "The 'driver function' in method 4 will only count number values in a list and produces the 'TypeError' above once it tries to loop over an non numeric element in 'List'\n"
   ]
  },
  {
   "cell_type": "markdown",
   "metadata": {},
   "source": [
    "### References:\n",
    "***\n",
    "\n",
    "#### Producing a count of each recurring item from a 'List' of numbers, letters, words and characters:\n",
    "Method 1 - https://programminghistorian.org/en/lessons/counting-frequencies\n",
    "\n",
    "Method 2 - https://www.javatpoint.com/python-program-to-find-the-frequency-of-each-element-in-the-array\n",
    "\n",
    "Method 3 - https://stackoverflow.com/questions/24878174/how-to-count-digits-letters-spaces-for-a-string-in-python\n",
    "\n",
    "\n",
    "#### Other Areas Researched:\n",
    "\n",
    "#### Producing a count of each recurring item from a 'List' of numbers:\n",
    "Method 4 - https://www.geeksforgeeks.org/counting-the-frequencies-in-a-list-using-dictionary-in-python/\n",
    "\n",
    "#### Producing a count of each recurring item from a 'String' of numbers, letters, words and characters:\n",
    "https://www.netjstech.com/2019/09/python-program-count-occurrences-each-character-string.html\n",
    "\n",
    "#### Produce a total number for letters,numbers and characters in a 'String':\n",
    "https://www.w3resource.com/python-exercises/python-conditional-exercise-14.php\n",
    "\n",
    "#### Count the total number of letters, number and other characters in a list:\n",
    "https://www.w3resource.com/python-exercises/python-conditional-exercise-14.php\n",
    "https://stackoverflow.com/questions/24878174/how-to-count-digits-letters-spaces-for-a-string-in-python/45544018\n",
    "\n",
    "#### User specifies the character to perform a count in a list:\n",
    "https://www.youtube.com/watch?v=19MjQ76kF1A\n",
    "\n",
    "#### Other Sources:\n",
    "https://jakevdp.github.io/WhirlwindTourOfPython/11-list-comprehensions.html\n",
    "https://programminghistorian.org/en/lessons/counting-frequencies\n",
    "https://www.google.com/search?client=firefox-b-d&=take+a+list+of+numbers%2C+words+and+characters+in+python+and+count+the+occurences+of+each"
   ]
  },
  {
   "cell_type": "markdown",
   "metadata": {},
   "source": [
    "### End\n",
    "***"
   ]
  },
  {
   "cell_type": "markdown",
   "metadata": {},
   "source": [
    "## Task 2 Instructions:\n",
    "\n",
    "Write a Python function called dicerolls that simulates rolling dice.  Your function should take two parameters:  the number of dice 'k' and the number of times to roll the dice 'n'.  The function should simulate randomly rolling 'k' dice 'n' times, keeping track of each total face value.  It should then return a dictionary with the number of times each possible total face value occurred.  So,calling the function asdiceroll(k=2, n=1000)should return a dictionary like: {2:19,3:50,4:82,5:112,6:135,7:174,8:133,9:114,10:75,11:70,12:36}\n",
    "\n",
    "You can use any module from the Python standard library you wish and you should include a description with references of your algorithm in the notebook."
   ]
  },
  {
   "cell_type": "markdown",
   "metadata": {},
   "source": [
    "### Import modules and Set up variables\n",
    "***"
   ]
  },
  {
   "cell_type": "code",
   "execution_count": null,
   "metadata": {},
   "outputs": [],
   "source": [
    "#Import Modules\n",
    "import random\n",
    "import matplotlib.pyplot as plt\n",
    "from collections import Counter"
   ]
  },
  {
   "cell_type": "code",
   "execution_count": null,
   "metadata": {},
   "outputs": [],
   "source": [
    "print (\"\\nRESULTS OF THE DICE THROW GAME:\\n\")\n",
    "\n",
    "#To ask user to input the variables for n & k\n",
    "#n = int (input (\"Enter the number of dices: \"))\n",
    "#k = int (input (\"Enter the number of rounds: \"))\n",
    "\n",
    "k = 1000 # Number of times the dices are thrown\n",
    "n = 2  # Number of dices thrown\n",
    "\n",
    "print (\"The number of dice ('n') rolled in each round was:\" , n)\n",
    "print (\"The number of rounds ('k') was: \" , k,\"\\n\")"
   ]
  },
  {
   "cell_type": "markdown",
   "metadata": {},
   "source": [
    "### Generate a random number for each dice thrown and sum the results for each round\n",
    "***"
   ]
  },
  {
   "cell_type": "code",
   "execution_count": null,
   "metadata": {},
   "outputs": [],
   "source": [
    "Rounds = 1 # Temporary storage value for 'k'\n",
    "Roll = 0 # Temporary storage value for 'n'\n",
    "List_of_Throws = [] # Empty List to accumulate the individual value of every dice thrown\n",
    "Round_Total = [] # Empty List to accumulate the tally of the throws for each round \n",
    "print (\"\\nDice Throws for each Round:\\n\")\n",
    "\n",
    "while Rounds <= k:\n",
    "    \n",
    "    Cumulative = 0 #Re-set the accumulated score to zero at the end of each round\n",
    "    \n",
    "    for Roll in range (1, (n + 1)): # For roll number in range from 1 to n (as defined above)\n",
    "        \n",
    "        Throw = random.randint(1,6) # Generate a random number between 1 and 6 (6 sided dice)\n",
    "        print (\"Round\", str (Rounds) , \"-\" , \"Dice\" , str (Roll) , \"Rolled:\" , str (Throw)) # print individual throws of the dice in the round\n",
    "        List_of_Throws.append (Throw) # Append the value of the individual dice throws to 'List_of_Throws' List    \n",
    "        Cumulative = Cumulative + Throw # Create a running total for the value of dice thrown in the round\n",
    "        \n",
    "    print (\"Round\",str (Rounds).rjust(1) , \"Total -\" ,\"Player throws\", (Cumulative),\"\\n\") # print round summary         \n",
    "    Rounds = Rounds + 1 # advance to the next round \n",
    "    Roll = Roll + 1     # advance to the next dice    \n",
    "    Round_Total.append (Cumulative) # Creat a List of Round Totals\n",
    "    "
   ]
  },
  {
   "cell_type": "markdown",
   "metadata": {},
   "source": [
    "### Create a list of the results for each dice thrown\n",
    "***"
   ]
  },
  {
   "cell_type": "code",
   "execution_count": null,
   "metadata": {
    "scrolled": true
   },
   "outputs": [],
   "source": [
    "print (\"\\nList of Single Dice Throws: \\n\")\n",
    "print(str (List_of_Throws)) # print a List of each throw individually for all rounds"
   ]
  },
  {
   "cell_type": "markdown",
   "metadata": {},
   "source": [
    "### Calculate the frequency of the single dices thrown\n",
    "***"
   ]
  },
  {
   "cell_type": "code",
   "execution_count": null,
   "metadata": {},
   "outputs": [],
   "source": [
    "print (\"\\nFrequency of Single Dices Thrown:\\n\")\n",
    "\n",
    "def asdiceroll1():\n",
    "\n",
    "    Frequency1 = {} # create a blank dictionary to store frequency of each element \n",
    "\n",
    "    for element1 in sorted (List_of_Throws): # iterating over the elements for frequency\n",
    "\n",
    "        if element1 in Frequency1:  #check if the element in the 'List_of_Throws' is already in the dictionary\n",
    "        \n",
    "            Frequency1 [element1] = Frequency1 [element1] + 1  # incrementing the count by 1 if already in dictionary\n",
    "            #Alternative to Frequency1 [element1] += 1\n",
    "        else:\n",
    "            Frequency1 [element1] = 1 # setting the count to 1 if first instance i.e not in the dictionary yet\n",
    "    \n",
    "    \n",
    "    print ((Frequency1),\"\\n\")\n",
    "    for key, value in Frequency1.items():\n",
    "        print (f\" {key:3} was rolled {value:3} times\".format (key,value)) # printing the elements frequencies\n",
    "  \n",
    "asdiceroll1() # call the function 'asdiceroll1'\n"
   ]
  },
  {
   "cell_type": "code",
   "execution_count": null,
   "metadata": {},
   "outputs": [],
   "source": [
    "#alternative function:\n",
    "\n",
    "def asdiceroll1():\n",
    "\n",
    "    print(\"\\nFrequency of Single Dices Thrown:\\n\")\n",
    "    print(dict(Counter(sorted(List_of_Throws))),\"\\n\")#Count the frequency of each age sampled  \n",
    "     \n",
    "asdiceroll1() # call the function 'asdiceroll1'"
   ]
  },
  {
   "cell_type": "markdown",
   "metadata": {},
   "source": [
    "### Histogram of the frequency of the single dices thrown in the game\n",
    "***"
   ]
  },
  {
   "cell_type": "code",
   "execution_count": null,
   "metadata": {},
   "outputs": [],
   "source": [
    "print (\"\")\n",
    "x = List_of_Throws\n",
    "plt.hist (x, 6)\n",
    "plt.title (\"Results of the Dice Game\")\n",
    "plt.ylabel (\"Frequency\")\n",
    "plt.xlabel (\"Value of Single Dices Thrown\")\n",
    "plt.show ()"
   ]
  },
  {
   "cell_type": "markdown",
   "metadata": {},
   "source": [
    "### Create a list of the total score for each round\n",
    "***"
   ]
  },
  {
   "cell_type": "code",
   "execution_count": null,
   "metadata": {},
   "outputs": [],
   "source": [
    "    print (\"\\nList of Round Totals:\\n\")\n",
    "    print (str (Round_Total),\"\\n\") # print a list of the total rolled for each round  "
   ]
  },
  {
   "cell_type": "markdown",
   "metadata": {},
   "source": [
    "### Calculate the frequency of total score for each round\n",
    "***"
   ]
  },
  {
   "cell_type": "code",
   "execution_count": null,
   "metadata": {},
   "outputs": [],
   "source": [
    "print (\"\")\n",
    "print (\"\\nFREQUENCY OF TOTAL SCORE FOR THE ROUND:\\n\")\n",
    "print(\"\")\n",
    "\n",
    "def asdiceroll():  # If I want to count the frequency of each round:\n",
    "\n",
    "    Frequency = {} # create a blank dictionary to store frequency of each element \n",
    "\n",
    "    for element in sorted (Round_Total): # iterating over the elements for frequency\n",
    "\n",
    "        if element in Frequency: #check if the element in the 'List_of_Throws' is already in the dictionary\n",
    "        \n",
    "            Frequency [element] = Frequency [element] + 1  # incrementing the count by 1 if already in dictionary\n",
    "            #Alternative to Frequency1 [element1] += 1\n",
    "    \n",
    "        else:\n",
    "            Frequency [element] = 1 # setting the count to 1 if first instance i.e not in the dictionary yet\n",
    "\n",
    "\n",
    "    print ((Frequency))    \n",
    "    print (\"\") \n",
    "    \n",
    "    for key, value in Frequency.items():\n",
    "        print (f\" {key:3} was rolled {value:3} times\") # printing the elements frequencies\n",
    "        \n",
    "asdiceroll() # call the function 'asdiceroll'\n",
    "\n",
    "print(\"\")"
   ]
  },
  {
   "cell_type": "code",
   "execution_count": null,
   "metadata": {},
   "outputs": [],
   "source": [
    "#alternative function:\n",
    "\n",
    "def asdiceroll():\n",
    "\n",
    "    print(\"\\nFrequency of Single Dices Thrown:\\n\")\n",
    "    print(dict(Counter(sorted(Round_Total))),\"\\n\")#Count the frequency of each age sampled  \n",
    "     \n",
    "asdiceroll() # call the function 'asdiceroll1'"
   ]
  },
  {
   "cell_type": "markdown",
   "metadata": {},
   "source": [
    "### Histogram of the frequency of the round totals thrown in the game\n",
    "***"
   ]
  },
  {
   "cell_type": "code",
   "execution_count": null,
   "metadata": {},
   "outputs": [],
   "source": [
    "print (\"\")\n",
    "x = Round_Total\n",
    "plt.hist (x, ((n * 6) -1)) # shows one bin per result\n",
    "plt.title (\"Results of the Dice Game\")\n",
    "plt.ylabel (\"Frequency\")\n",
    "plt.xlabel (\"Sumtotal of value of 'n' Dices Thrown\")\n",
    "plt.show ()"
   ]
  },
  {
   "cell_type": "markdown",
   "metadata": {},
   "source": [
    "### Side by Side Plots - Single Dices vs Round Totals\n",
    "***"
   ]
  },
  {
   "cell_type": "code",
   "execution_count": null,
   "metadata": {},
   "outputs": [],
   "source": [
    "print (\"\")\n",
    "#Round Totals:\n",
    "plt.subplot (1,2,1) # one row, two columns, sub plot 1\n",
    "x = Round_Total\n",
    "plt.hist (x, ((n * 6)-1)) # shows one bin per result\n",
    "plt.title (\"Results of the Dice Game\")\n",
    "plt.ylabel (\"Frequency\")\n",
    "plt.xlabel (\"Value of 'n' Dices Thrown\")\n",
    "\n",
    "#Single Throws:\n",
    "plt.subplot (1,2,2) # one row, two columns, sub plot 2\n",
    "x = List_of_Throws\n",
    "plt.hist (x, 6)\n",
    "plt.title (\"Results of the Dice Game\")\n",
    "plt.ylabel (\"Frequency\")\n",
    "plt.xlabel (\"Value of Single Dices Thrown\")\n",
    "plt.show ()"
   ]
  },
  {
   "cell_type": "markdown",
   "metadata": {},
   "source": [
    "### References\n",
    "***"
   ]
  },
  {
   "cell_type": "markdown",
   "metadata": {},
   "source": [
    "###### https://stackoverflow.com/questions/20501379/sum-of-simulation-of-the-rolling-of-2-six-sided-dice-with-python\n",
    "##### https://www.youtube.com/watch?v=VWffrh13CjI\n",
    "##### https://stackoverflow.com/questions/60243953/looping-a-dice-roll-simulation-in-python\n",
    "##### https://stackoverflow.com/questions/27178055/count-a-random-dice\n",
    "##### https://stackoverflow.com/questions/60343980/rolling-2-dice-1000-times-and-counting-the-number-of-times-the-sum-of-the-two-di\n",
    "##### https://repl.it/@mrmacknamara/rolling-multiple-dice-simultaneously#main.py\n",
    "##### https://artofproblemsolving.com/wiki/index.php/Basic_Programming_With_Python#The_While_Loop\n",
    "##### https://pynative.com/python-range-function/#range-function-syntax-and-arguments\n",
    "##### https://stackoverflow.com/questions/32491107/sum-random-numbers/32491206\n",
    "##### https://stackoverflow.com/questions/16888880/python-how-to-generate-new-list-from-variable-in-a-loop\n",
    "##### https://www.tutorialspoint.com/count-frequencies-of-all-elements-in-array-in-python\n",
    "##### https://stackoverflow.com/questions/12964460/adding-numbers-in-a-range-with-for-loop\n",
    "##### https://www.thetopsites.net/article/50397137.shtml\n",
    "##### http://www.compciv.org/guides/python/fundamentals/dictionaries-overview/#ordereddict"
   ]
  },
  {
   "cell_type": "markdown",
   "metadata": {},
   "source": [
    "#### END\n",
    "***"
   ]
  },
  {
   "cell_type": "markdown",
   "metadata": {},
   "source": [
    "## Task 3 Instructions:\n",
    "\n",
    "The numpy.random.binomial function can be used to simulate flipping a coin with a 50/50 chance of heads or tails.  Interestingly, if a coin is flipped many times then the number of heads is well approximated by a bell-shaped curve.  For instance, if we flip a coin 100 times in a row the chance of getting 50 heads is relatively high, the chances of getting 0 or 100 heads is relatively low, and the chances of getting any other number of heads decreases as you move away from 50 in either direction towards 0 or 100.  \n",
    "\n",
    "1. Write some python code that simulates flipping a coin 100 times.  \n",
    "2. Then run this code 1,000 times, keeping track of  the  number  of  heads  in  each  of  the  1,000  simulations.   \n",
    "3. Select  an  appropriate plot to depict the resulting list of 1,000 numbers, showing that it roughly follows a bell-shaped curve.  \n",
    "\n",
    "   (You should explain your work in a Markdown cell above the code)"
   ]
  },
  {
   "cell_type": "markdown",
   "metadata": {},
   "source": [
    "### Approach:\n",
    "I approached this task using two methods:\n",
    "\n",
    "Method 1 - Simulates the data for the experiment using np.random.binomial()\n",
    "\n",
    "Method 2 - Simulates the data for the experiment using np.random.randint()"
   ]
  },
  {
   "cell_type": "markdown",
   "metadata": {},
   "source": [
    "### Import the modules for the assignment\n",
    "***"
   ]
  },
  {
   "cell_type": "code",
   "execution_count": null,
   "metadata": {
    "scrolled": true
   },
   "outputs": [],
   "source": [
    "import numpy as np\n",
    "import matplotlib.pyplot as plt\n",
    "import random\n",
    "import seaborn as sns\n",
    "from collections import Counter"
   ]
  },
  {
   "cell_type": "markdown",
   "metadata": {},
   "source": [
    "#### np.random.binomial(n, p, size)\n",
    "***\n",
    "\n",
    "n = number of trials in a single round or experiment\n",
    "\n",
    "p = Probability of success or failure\n",
    "\n",
    "size = number of rounds or experiments\n",
    "\n"
   ]
  },
  {
   "cell_type": "markdown",
   "metadata": {},
   "source": [
    "Mathematically, a coin toss experiment can be thought of a binomial experiment, where we have a coin with probability of getting head as success at each coin toss is p. In a binomial experiment, given n and p, we toss the coin n times and we are interested in the number of heads/successes we will get."
   ]
  },
  {
   "cell_type": "markdown",
   "metadata": {},
   "source": [
    "### Coin Toss Assumptions\n",
    "***\n",
    "\n",
    "- The coin is fair i.e. there is a 50/50 chance that the result will be heads or tails i.e. p = 0.5.  The coin can be biased by changing the probability \n",
    "- If head is tossed, the result will be 1 (Success)\n",
    "- If tail is tossed, the result will be 0 (Fail)"
   ]
  },
  {
   "cell_type": "markdown",
   "metadata": {},
   "source": [
    "### Method 1: Coin Toss Experiment using random.binomial ():\n",
    "<BR>"
   ]
  },
  {
   "cell_type": "markdown",
   "metadata": {},
   "source": [
    "### Simulate 1000 rounds of coin tosses of 100 coins per round\n",
    "***"
   ]
  },
  {
   "cell_type": "code",
   "execution_count": null,
   "metadata": {
    "scrolled": true
   },
   "outputs": [],
   "source": [
    "np.random.seed(1)# set the seed if I want the same random selection every time\n",
    "n = 100 # Number of coin tosses (trials)\n",
    "p = 0.5 # Probability of rolling heads\n",
    "size = 1000 # Repeat our experiment 1000 times (repetitions)\n",
    "r = np.random.binomial(n,p,size)\n",
    "print (\"\\nSummary results of each round of\",n,\"coin tosses repeated\",size, \"times by random.binomial():\\n\\n\",r )\n"
   ]
  },
  {
   "cell_type": "markdown",
   "metadata": {},
   "source": [
    "<BR>"
   ]
  },
  {
   "cell_type": "code",
   "execution_count": null,
   "metadata": {},
   "outputs": [],
   "source": [
    "#Summarise the results in pairs\n",
    "print(\"\\nSummary of Results:\\n\")\n",
    "print(dict(Counter(sorted(r))),\"\\n\")#Count the frequency of each age sampled"
   ]
  },
  {
   "cell_type": "markdown",
   "metadata": {
    "scrolled": true
   },
   "source": [
    "### Test the Output - random.binomial ()\n",
    "***"
   ]
  },
  {
   "cell_type": "code",
   "execution_count": null,
   "metadata": {
    "scrolled": true
   },
   "outputs": [],
   "source": [
    "print(\"\")\n",
    "print(\"SUMMARY RESULTS OF THE COIN TOSS EXPERIMENT:\")\n",
    "print (\"\\nThe number of heads and tails tossed using random.binomial in\",size,\"rounds of\",n,\"coin tosses is:\")\n",
    "print(\"\")\n",
    "#print(f' \\nHeads were tossed {sum(r) times (round((sum(r)/(size*n))*100,2) %'):3}   Tails = {((size * n) - sum(r))}') # Print summary of results\n",
    "print (f\"Heads were tossed {sum(r)} times out of {n* size} coin tosses i.e. {(round((sum(r)/(size*n))*100,2))} %\\n\")\n",
    "print (f\"Tails were tossed {(n*size-sum(r))} times out of {n* size} coin tosses i.e. {(round(((n*size-sum(r))/(size*n))*100,2))} %\\n\")"
   ]
  },
  {
   "cell_type": "markdown",
   "metadata": {},
   "source": [
    "### Plotting the Result\n",
    "***"
   ]
  },
  {
   "cell_type": "code",
   "execution_count": null,
   "metadata": {},
   "outputs": [],
   "source": [
    "sns.distplot(r,color = 'blue', hist = False, kde=1)\n",
    "plt.xticks([0, 10, 20, 30,40,50,60,70,80,90,100])\n",
    "plt.title ('\\nFrequency of Heads in a Coin Toss Sample\\n',fontsize=14)\n",
    "plt.xlabel('\\nNumber of Heads',fontsize=14)\n",
    "plt.ylabel('Distribution\\n',fontsize=14)\n",
    "plt.grid(True)\n",
    "plt.show();"
   ]
  },
  {
   "cell_type": "markdown",
   "metadata": {},
   "source": [
    "### Conclusion:\n",
    "***"
   ]
  },
  {
   "cell_type": "markdown",
   "metadata": {},
   "source": [
    "1. The experiment chose heads and tails equally to a low margin of error.\n",
    "2. The most likely result was between 49 and 51 'heads' out of 100 based on 1000 repetitions.\n",
    "3. The result follows a bell shaped curve as expected when random.binomial is used as to simulate the results."
   ]
  },
  {
   "cell_type": "markdown",
   "metadata": {},
   "source": [
    "<BR>"
   ]
  },
  {
   "cell_type": "markdown",
   "metadata": {},
   "source": [
    "### Method 2 - Coin Toss Experiment using random.randint ():\n",
    "<BR>"
   ]
  },
  {
   "cell_type": "markdown",
   "metadata": {},
   "source": [
    "### Simulate 1000 rounds of coin tosses of 100 coins per round\n",
    "***"
   ]
  },
  {
   "cell_type": "code",
   "execution_count": null,
   "metadata": {
    "scrolled": true
   },
   "outputs": [],
   "source": [
    "#Method 1:\n",
    "print(\"\\nSummary results of each round of 100 coin tosses repeated 1000 times by random.randint():\\n\")\n",
    "print([sum([random.randint(0,1) for i in range(100)]) for j in range(1000)])\n"
   ]
  },
  {
   "cell_type": "markdown",
   "metadata": {},
   "source": [
    "<BR>"
   ]
  },
  {
   "cell_type": "code",
   "execution_count": null,
   "metadata": {
    "scrolled": true
   },
   "outputs": [],
   "source": [
    "#Method 2:\n",
    "n1 = 100\n",
    "k = 1000\n",
    "print (\"\\nDETAILED RESULTS BY ROUND:\")\n",
    "\n",
    "running_total = 0\n",
    "List = []\n",
    "for coin_toss in range (1,(k+1)):\n",
    "    r1 = (np.random.randint (0, 2, size = 100))\n",
    "    running_total = running_total + r1\n",
    "    List.append (sum((r1)))\n",
    "    print(f' \\nRound{coin_toss:5}:  Heads = {sum(r1):3}   Tails = {n1-sum(r1):3}')\n",
    "    print(\"\\n\",str(r1))\n",
    "    "
   ]
  },
  {
   "cell_type": "markdown",
   "metadata": {},
   "source": [
    "<BR>"
   ]
  },
  {
   "cell_type": "code",
   "execution_count": null,
   "metadata": {
    "scrolled": true
   },
   "outputs": [],
   "source": [
    "print (\"\\nSummary results of each round of\",n1,\"coin tosses repeated\",k, \"times by random.randint():\\n\\n\",List)"
   ]
  },
  {
   "cell_type": "markdown",
   "metadata": {},
   "source": [
    "<BR>"
   ]
  },
  {
   "cell_type": "markdown",
   "metadata": {},
   "source": [
    "### Summarize the Results\n",
    "***"
   ]
  },
  {
   "cell_type": "code",
   "execution_count": null,
   "metadata": {},
   "outputs": [],
   "source": [
    "print(\"\\nSummary of Results:\\n\")\n",
    "print(dict(Counter(sorted(List))),\"\\n\")#Count the frequency of each element"
   ]
  },
  {
   "cell_type": "markdown",
   "metadata": {},
   "source": [
    "### Test the Output - random.randint ()\n",
    "***"
   ]
  },
  {
   "cell_type": "code",
   "execution_count": null,
   "metadata": {},
   "outputs": [],
   "source": [
    "print (\"\\n Frequency of Heads and Tails in 1,000 experiments of 100 coin tosses:\")\n",
    "print(\"\\n Heads were tossed\",sum(running_total),\"times out of\",(n1 * k), \"coin tosses i.e.\",round((sum(running_total))/(k*n)*100,2),\"%\\n\")\n",
    "print(\" Tails were tossed\",(k*n-sum(running_total)),\"times out of\",(n1 * k),\"coin tosses i.e.\",round((((k*n)-(sum(running_total)))/(k*n))*100,2),\"%\\n\")"
   ]
  },
  {
   "cell_type": "markdown",
   "metadata": {},
   "source": [
    "### Plotting the Result\n",
    "***"
   ]
  },
  {
   "cell_type": "code",
   "execution_count": null,
   "metadata": {},
   "outputs": [],
   "source": [
    "sns.distplot(List,color = 'blue', hist = False, kde=1)\n",
    "plt.xticks([0, 10, 20, 30,40,50,60,70,80,90,100])\n",
    "plt.title ('\\nFrequency of Heads in a Coin Toss Sample\\n',fontsize=14)\n",
    "plt.xlabel('\\nNumber of Heads',fontsize=14)\n",
    "plt.ylabel('Distribution\\n',fontsize=14)\n",
    "plt.grid(True)\n",
    "plt.show();"
   ]
  },
  {
   "cell_type": "markdown",
   "metadata": {},
   "source": [
    "### Conclusion\n",
    "***"
   ]
  },
  {
   "cell_type": "markdown",
   "metadata": {},
   "source": [
    "1. The result of random.randint() is similar to the random.binomial() over a sample of 100,000.\n",
    "2. The experiment chose heads and tails equally to a low margin of error.\n",
    "3. The most likely result was between 47 and 51 'heads' out of 100 based on 1000 repetitions.\n",
    "4. The result follows a bell shaped curve as expected when random.randint() is used as to simulate the results.\n",
    "\n",
    "Note that this observation might vary depending on the realization of our random simulation."
   ]
  },
  {
   "cell_type": "markdown",
   "metadata": {},
   "source": [
    "### References:\n",
    "***\n",
    "#### https://cmdlinetips.com/2018/12/simulating-coin-toss-experiment-with-binomial-random-numbers-using-numpy/\n",
    "#### https://www.statisticshowto.com/probability-and-statistics/binomial-theorem/binomial-distribution-formula/\n",
    "#### https://towardsdatascience.com/fun-with-the-binomial-distribution-96a5ecabf65b\n",
    "#### https://www.thoughtco.com/when-to-use-binomial-distribution-3126596\n",
    "#### https://www.journaldev.com/39993/seaborn-distplot#what-is-a-seaborn-distplot\n",
    "#### https://stackoverflow.com/questions/30819056/how-to-label-and-change-the-scale-of-seaborn-kdeplots-axes\n",
    "#### https://www.tutorialspoint.com/numpy/numpy_matplotlib.htm\n",
    "#### https://seaborn.pydata.org/generated/seaborn.distplot.html\n",
    "#### http://pi3.sites.sheffield.ac.uk/tutorials/week-9\n"
   ]
  },
  {
   "cell_type": "markdown",
   "metadata": {},
   "source": [
    "#### END\n",
    "***"
   ]
  },
  {
   "cell_type": "markdown",
   "metadata": {},
   "source": [
    "## Task 4 Instructions:\n",
    "***\n",
    "Use numpy to create four data sets, each with an x array and a corresponding y array,  to  demonstrate  Simpson’s  paradox.   \n",
    "\n",
    "You  might create  your x arrays using numpy.linspace and create  the y array  for  each x using notation like y = a * x + b where you choose the a and b for each x,y pair to demonstrate the paradox.  \n",
    "\n",
    "You might see the Wikipedia page for Simpson’s paradox for inspiration.\n"
   ]
  },
  {
   "cell_type": "markdown",
   "metadata": {},
   "source": [
    "Simpson’s paradox is a well-known statistical paradoxwhere a trend evident in a number of groups reverses when the groups are combinedinto one big data set.  \n",
    "\n",
    "The paradox occurs when trends that appear when a dataset is separated into groups reverse when the data are aggregated. The problem here is that looking only at the percentages in the separate data ignores the sample size and the number of respondents answering the question.\n",
    "***"
   ]
  },
  {
   "cell_type": "markdown",
   "metadata": {},
   "source": [
    "### Approach:\n",
    "I approached this task using two methods:\n",
    "\n",
    "Method 1 - Uses the approach suggested in the task outline above i.e. x , y = a * x + b to generate four datasets.\n",
    "\n",
    "Method 2 - Simulates random data for probability of regular exercise and disease for 4 separate age groups (datasets) \n",
    "\n",
    "I aggregated and ploted the data for both methods."
   ]
  },
  {
   "cell_type": "code",
   "execution_count": null,
   "metadata": {},
   "outputs": [],
   "source": [
    "#import modules:\n",
    "import numpy as np\n",
    "import seaborn as sns\n",
    "import matplotlib.pyplot as plt\n",
    "from collections import Counter\n",
    "import pandas as pd"
   ]
  },
  {
   "cell_type": "markdown",
   "metadata": {},
   "source": [
    "### Method 1 - Simulating Random Data to demonstrate Simpson's Paradox using np.linspace and np.random.randint\n",
    "***"
   ]
  },
  {
   "cell_type": "markdown",
   "metadata": {},
   "source": [
    "### Generate 4 datasets:\n"
   ]
  },
  {
   "cell_type": "code",
   "execution_count": null,
   "metadata": {},
   "outputs": [],
   "source": [
    "#Set array 1:\n",
    "a5, b5 = np.random.randint(1,100),np.random.randint(1,100)\n",
    "x5 = np.linspace (1, 50, num = 100, endpoint = True, retstep = False, dtype = None, axis = 0)\n",
    "y5 = a5 * x5 + b5"
   ]
  },
  {
   "cell_type": "code",
   "execution_count": null,
   "metadata": {},
   "outputs": [],
   "source": [
    "#Set array 2:\n",
    "a6, b6 = -(np.random.randint(1,100)),-(np.random.randint(1,100))\n",
    "x6 = np.linspace (1, 50, num = 100, endpoint = True, retstep = False, dtype = None, axis = 0)\n",
    "y6 = a6 * x6 + b6"
   ]
  },
  {
   "cell_type": "code",
   "execution_count": null,
   "metadata": {},
   "outputs": [],
   "source": [
    "#Set array 3:\n",
    "a7, b7 = -(np.random.randint(1,100)),np.random.randint(1,100)\n",
    "x7 = np.linspace (1, 50, num = 100, endpoint = True, retstep = False, dtype = None, axis = 0)\n",
    "y7 = a7 * x7 + b7"
   ]
  },
  {
   "cell_type": "code",
   "execution_count": null,
   "metadata": {},
   "outputs": [],
   "source": [
    "#Set array 4:\n",
    "a8, b8 = np.random.randint(1,100),np.random.randint(1,100)\n",
    "x8 = np.linspace (1, 50, num = 100, endpoint = True, retstep = False, dtype = None, axis = 0)\n",
    "y8 = a8 * x8 + b8"
   ]
  },
  {
   "cell_type": "markdown",
   "metadata": {},
   "source": [
    "### Consolidate the Results:\n",
    "***"
   ]
  },
  {
   "cell_type": "code",
   "execution_count": null,
   "metadata": {},
   "outputs": [],
   "source": [
    "arrayx = np.concatenate((x5, x6, x7, x8),axis=0)\n",
    "arrayy = np.concatenate((y5, y6, y7, y8),axis=0)"
   ]
  },
  {
   "cell_type": "markdown",
   "metadata": {},
   "source": [
    "### Plot the Results:\n",
    "***"
   ]
  },
  {
   "cell_type": "code",
   "execution_count": null,
   "metadata": {},
   "outputs": [],
   "source": [
    "plt.style.use (\"ggplot\")\n",
    "plt.rcParams['figure.figsize'] = 10,6\n",
    "plt.plot(x5, y5, \"r.\", label='Dataset 1')\n",
    "plt.plot(x6, y6, \"b.\", label='Dataset 2')\n",
    "plt.plot(x7, y7, \"g.\", label='Dataset 3')\n",
    "plt.plot(x8, y8, \"y.\", label='Dataset 4')\n",
    "plt.title('\\nSimpsons Paradox - Individual Results\\n')\n",
    "plt.xlabel('\\nX Value')\n",
    "plt.ylabel('Y Value\\n')\n",
    "plt.legend(loc='best')\n",
    "plt.show()"
   ]
  },
  {
   "cell_type": "code",
   "execution_count": null,
   "metadata": {},
   "outputs": [],
   "source": [
    "plt.style.use (\"ggplot\")\n",
    "plt.rcParams['figure.figsize'] = 10,6\n",
    "sns.lineplot (arrayx,arrayy)\n",
    "plt.title('\\nSimpsons Paradox - Combined\\n')\n",
    "plt.xlabel('\\nX Value')\n",
    "plt.ylabel('Y Value\\n')\n",
    "plt.show()"
   ]
  },
  {
   "cell_type": "markdown",
   "metadata": {},
   "source": [
    "### Method 2 - Simulating Random Data to demonstrate Simpson's Paradox\n",
    "***"
   ]
  },
  {
   "cell_type": "markdown",
   "metadata": {},
   "source": [
    "### Generate 4 datasets:"
   ]
  },
  {
   "cell_type": "code",
   "execution_count": null,
   "metadata": {},
   "outputs": [],
   "source": [
    "## Dataset 1: Simulate the scenario demonstrating the link between disease and exercise in adults between 18 and 29 years old:\n",
    "\n",
    "print(\"\\nDataset 1\")\n",
    "low_age_limit1 = 18 \n",
    "up_age_limit1  = 30  \n",
    "sample_size1 = 10000\n",
    "Prob_Ex1 = 0.7       #Probability of exercising regularly in the sample\n",
    "Prob_Disex1 = 0.1    #Probability of contracting a disease for those that exercised regularly\n",
    "Prob_Disnoex1 = 0.2  #Probability of contracting a disease for those that did not exercise regularly\n",
    "\n",
    "np.random.seed(0)#Set the seed to get consistent results from this array\n",
    "age1 = np.random.randint(low_age_limit1,up_age_limit1,size = sample_size1)\n",
    "#Simulate a sample of 1000 adults aged between 18 and 30\n",
    "x1 = np.random.binomial(1, Prob_Ex1, size = sample_size1)#Assume probability of regular exercise at 70%\n",
    "#Create a random sample (x) where 0 = No Regular Exercise; 1 = Regular Exercise\n",
    "\n",
    "for i1 in x1:\n",
    "    if i1 == 1:\n",
    "    #Create a biased sample (y) based on the probability of disease when the patient regularly exercises where 0 = No Disease; 1 = Disease\n",
    "        y1 = np.random.binomial(1, Prob_Disex1, size = sample_size1)\n",
    "    else:        \n",
    "        #Create a biased sample (y) based on the proabaility of disease where the patient does not regularly exercise 0 = No Disease; 1 = Disease\n",
    "        y1 = np.random.binomial(1, Prob_Disnoex1, size = sample_size1)\n",
    "\n",
    "#Summarise the results:\n",
    "print (\"\\nSample Results - Age Group between\",low_age_limit1,\"and\",(up_age_limit1-1),\":\\n\")\n",
    "\n",
    "#Option to print the results of the full sample\n",
    "#XY1 = np.array(list(zip(age1,x1,y1))) #pair and display the age1, x1 and y1 results\n",
    "#XY1  = XY1.reshape((sample_size1,3)) #reshape into one array per line\n",
    "#print (XY1,\"\\n\") \n",
    "\n",
    "#Count the frequency the age profile:\n",
    "print(\"Age Profile Sampled {Age:Frequency}:\\n\")\n",
    "print(dict(Counter(sorted(age1))),\"\\n\")#Count the frequency of each age sampled\n",
    "\n",
    "#Sum the values for x and y:\n",
    "print(\"Total Samples:\",sample_size1,\"\\n\") \n",
    "print(\"The total number in the sample undertaking regular exercise is:\",sum(x1), \"i.e\", round((sum(x1)/sample_size1)*100,1),\"%\")\n",
    "print(\"The total number in the sample that suffered with disease is  :\",sum(y1), \"i.e\", round((sum(y1)/sample_size1)*100,1),\"%\\n\")\n"
   ]
  },
  {
   "cell_type": "code",
   "execution_count": null,
   "metadata": {},
   "outputs": [],
   "source": [
    "## Dataset 2: Simulate the scenario demonstrating the link between disease and exercise in adults between 30 and 49 years old:\n",
    "\n",
    "print(\"\\nDataset 2\")\n",
    "low_age_limit2 = 30  \n",
    "up_age_limit2  = 50  \n",
    "sample_size2 = 5000\n",
    "Prob_Ex2 = 0.60      #Probability of exercising regularly in the sample\n",
    "Prob_Disex2 = 0.2    #Probability of contracting a disease for those that exercised regularly\n",
    "Prob_Disnoex2 = 0.3  #Probability of contracting a disease for those that did not exercise regularly\n",
    "np.random.seed(0)\n",
    "age2 = np.random.randint(low_age_limit2,up_age_limit2,size = sample_size2)\n",
    "x2 = np.random.binomial(1, Prob_Ex2, size = sample_size2)\n",
    "\n",
    "for i2 in x2:\n",
    "    if i2 == 1:\n",
    "        y2 = np.random.binomial(1, Prob_Disex2, size = sample_size2)\n",
    "    else:             \n",
    "        y2 = np.random.binomial(1, Prob_Disnoex2, size = sample_size2)\n",
    "\n",
    "print (\"\\nSample Results - Age Group between\",low_age_limit2,\"and\",(up_age_limit2-1),\":\\n\")\n",
    "print(\"Age Profile Sampled {Age:Frequency}:\\n\")\n",
    "print(dict(Counter(sorted(age2))),\"\\n\")\n",
    "print(\"Total Samples:\",sample_size2,\"\\n\") \n",
    "print(\"The total number in the sample undertaking regular exercise is:\",sum(x2), \"i.e\", round((sum(x2)/sample_size2)*100,1),\"%\")\n",
    "print(\"The total number in the sample that suffered with disease is  :\",sum(y2), \"i.e\", round((sum(y2)/sample_size2)*100,1),\"%\\n\")\n"
   ]
  },
  {
   "cell_type": "code",
   "execution_count": null,
   "metadata": {},
   "outputs": [],
   "source": [
    "## Dataset 3: Simulate the scenario demonstrating the link between disease and exercise in adults between 50 and 69 years old:\n",
    "\n",
    "print(\"\\nDataset 3\")\n",
    "low_age_limit3 = 50  \n",
    "up_age_limit3  = 70  \n",
    "sample_size3 = 1000\n",
    "Prob_Ex3 = 0.45      #Probability of exercising regularly in the sample\n",
    "Prob_Disex3 = 0.3    #Probability of contracting a disease for those that exercised regularly\n",
    "Prob_Disnoex3 = 0.4  #Probability of contracting a disease for those that did not exercise regularly\n",
    "np.random.seed(0)\n",
    "age3 = np.random.randint(low_age_limit3,up_age_limit3,size = sample_size3)\n",
    "x3 = np.random.binomial(1, Prob_Ex3, size = sample_size3)\n",
    "\n",
    "for i3 in x3:\n",
    "    if i3 == 1:\n",
    "        y3 = np.random.binomial(1, Prob_Disex3, size = sample_size3)\n",
    "    else:             \n",
    "        y3 = np.random.binomial(1, Prob_Disnoex3, size = sample_size3)\n",
    "\n",
    "print (\"\\nSample Results - Age Group between\",low_age_limit3,\"and\",(up_age_limit3-1),\":\\n\")\n",
    "print(\"Age Profile Sampled{Age:Frequency}:\\n\")\n",
    "print(dict(Counter(sorted(age3))),\"\\n\")\n",
    "print(\"Total Samples:\",sample_size3,\"\\n\") \n",
    "print(\"The total number in the sample undertaking regular exercise is:\",sum(x3), \"i.e\", round((sum(x3)/sample_size3)*100,1),\"%\")\n",
    "print(\"The total number in the sample that suffered with disease is  :\",sum(y3), \"i.e\", round((sum(y3)/sample_size3)*100,1),\"%\\n\")\n"
   ]
  },
  {
   "cell_type": "code",
   "execution_count": null,
   "metadata": {},
   "outputs": [],
   "source": [
    "## Dataset 4: Simulate the scenario demonstrating the link between disease and exercise in adults between 70 and 90 years old:\n",
    "\n",
    "print(\"\\nDataset 4\")\n",
    "low_age_limit4 = 70  \n",
    "up_age_limit4  = 90  \n",
    "sample_size4 = 1000\n",
    "Prob_Ex4 = 0.25      #Probability of exercising regularly in the sample\n",
    "Prob_Disex4 = 0.5    #Probability of contracting a disease for those that exercised regularly\n",
    "Prob_Disnoex4 = 0.6  #Probability of contracting a disease for those that did not exercise regularly\n",
    "np.random.seed(0)\n",
    "age4 = np.random.randint(low_age_limit4,up_age_limit4,size = sample_size4)\n",
    "x4 = np.random.binomial(1, Prob_Ex4, size = sample_size4)\n",
    "\n",
    "for i4 in x4:\n",
    "    if i4 == 1:\n",
    "        y4 = np.random.binomial(1, Prob_Disex4, size = sample_size4)\n",
    "    else:             \n",
    "        y4 = np.random.binomial(1, Prob_Disnoex4, size = sample_size4)\n",
    "\n",
    "print (\"\\nSample Results - Age Group between\",low_age_limit4,\"and\",(up_age_limit4-1),\":\\n\")\n",
    "print(\"Age Profile Sampled{Age:Frequency}:\\n\")\n",
    "print(dict(Counter(sorted(age4))),\"\\n\")\n",
    "print(\"Total Samples:\",sample_size4,\"\\n\") \n",
    "print(\"The total number in the sample undertaking regular exercise is:\",sum(x4), \"i.e\", round((sum(x4)/sample_size4)*100,1),\"%\")\n",
    "print(\"The total number in the sample that suffered with disease is  :\",sum(y4), \"i.e\", round((sum(y4)/sample_size4)*100,1),\"%\\n\")\n"
   ]
  },
  {
   "cell_type": "markdown",
   "metadata": {},
   "source": [
    "### Consolidate the Results:\n",
    "***"
   ]
  },
  {
   "cell_type": "code",
   "execution_count": null,
   "metadata": {},
   "outputs": [],
   "source": [
    "consolx = np.concatenate((x1, x2, x3, x4),axis=0)\n",
    "consoly = np.concatenate((y1, y2, y3, y4),axis=0)\n",
    "consolage = np.concatenate((age1, age2, age3, age4),axis=0)"
   ]
  },
  {
   "cell_type": "markdown",
   "metadata": {},
   "source": [
    "### Summarise Results & Plot:\n",
    "***"
   ]
  },
  {
   "cell_type": "code",
   "execution_count": null,
   "metadata": {},
   "outputs": [],
   "source": [
    "pd.options.display.float_format = '{:,.0f}'.format\n",
    "pd.set_option(\"display.colheader_justify\",\"left\")\n",
    "print(\"\")\n",
    "dataset = [[\"18 - 30 years\",\"\",sum(x1),sum(x1)/sample_size1*100,\"\",sum(y1),sum(y1)/sample_size1*100,len(x1)],[\"31 - 50 years\",\"\",sum(x2),sum(x2)/sample_size2*100,\"\",sum(y2),sum(y2)/sample_size2*100,len(x2)],\n",
    "           [\"51 - 70 years\",\"\",sum(x3),sum(x3)/sample_size3*100,\"\",sum(y3),sum(y3)/sample_size3*100,len(x3)],[\"70 - 90 years\",\"\",sum(x4),sum(x4)/sample_size4*100,\"\",sum(y4),sum(y4)/sample_size4*100,len(x4)],\n",
    "           [\"Full Sample\",\"\",sum(consolx),sum(consolx)/len(consolx)*100,\"\",sum(consoly),sum(consoly)/len(consoly)*100,len(consoly)]]\n",
    "\n",
    "pd.DataFrame(dataset, columns = [\"Age Group\",\"\",\"Exercise\", \"% of Sample\",\"\",\"Disease\",\"% of Sample\",\"Sample Size\"], index=[1,2,3,4,5])"
   ]
  },
  {
   "cell_type": "markdown",
   "metadata": {},
   "source": [
    "<BR>"
   ]
  },
  {
   "cell_type": "code",
   "execution_count": null,
   "metadata": {},
   "outputs": [],
   "source": [
    "plt.style.use (\"ggplot\")\n",
    "plt.rcParams['figure.figsize'] = 14,10\n",
    "ax = sns.lineplot (consolx,consoly,color='orange', label='Combined')\n",
    "sns.lineplot (x1,y1,color='red', label='Dataset 1 - 18 to 29 year olds')\n",
    "sns.lineplot (x2,y2,color='blue', label='Dataset 2 - 30 to 49 year olds')\n",
    "sns.lineplot (x3,y3,color='green', label='Dataset 3 - 50 to 70 year olds')\n",
    "sns.lineplot (x4,y4,color='purple', label='Dataset 4 - 70 to 90 year olds')\n",
    "ax.set_title('\\nRelationship Between Exercise and Disease\\n')\n",
    "ax.set_xlabel('\\nExercise')\n",
    "ax.set_ylabel('Probaility of Disease\\n')\n",
    "plt.show()"
   ]
  },
  {
   "cell_type": "markdown",
   "metadata": {},
   "source": [
    "<BR>"
   ]
  },
  {
   "cell_type": "markdown",
   "metadata": {},
   "source": [
    "### References:\n",
    "***\n",
    "\n",
    "https://en.wikipedia.org/wiki/Simpson%27s_paradox\n",
    "\n",
    "https://www.tutorialspoint.com/find-sum-of-frequency-of-given-elements-in-the-list-in-python\n",
    "\n",
    "https://www.youtube.com/watch?v=ebEkn-BiW5k\n",
    "\n",
    "https://en.wikipedia.org/wiki/Simpson%27s_paradox\n",
    "\n",
    "https://github.com/ijmbarr/simpsons-paradox/blob/master/generating-examples-of-simpsons-paradox.ipynb\n",
    "\n",
    "https://cmdlinetips.com/2018/04/how-to-concatenate-arrays-in-numpy/\n",
    "\n",
    "https://www.tandfonline.com/doi/abs/10.1080/00031305.2016.1200485?scroll=top&needAccess=true&journalCode=utas20\n",
    "\n",
    "https://stackoverflow.com/questions/27930413/how-to-plot-a-multi-dimensional-data-point-in-python\n",
    "\n",
    "https://www.educba.com/3d-arrays-in-python/\n",
    "\n",
    "https://www.tutorialspoint.com/find-sum-of-frequency-of-given-elements-in-the-list-in-python\n",
    "\n",
    "https://www.geeksforgeeks.org/python-ways-to-sum-list-of-lists-and-return-sum-list/\n",
    "\n",
    "http://ugastro.berkeley.edu/pydecal/lecture_4.pdf\n",
    "\n",
    "https://www.bing.com/search?q=Simpson%E2%80%99s+paradox&FORM=EDGNCT&refig=59ad8fee540447c8a466f31562d7a654\n",
    "\n",
    "https://www.pytables.org/usersguide/tutorials.html\n",
    "\n",
    "https://stackoverflow.com/questions/35160256/how-do-i-output-lists-as-a-table-in-jupyter-notebook\n",
    "\n",
    "https://stackoverflow.com/questions/20937538/how-to-display-pandas-dataframe-of-floats-using-a-format-string-for-columns\n",
    "\n",
    "https://kanoki.org/2019/08/27/pandas-dataframe-align-function/\n",
    "\n",
    "https://pandas.pydata.org/pandas-docs/stable/user_guide/style.html\n",
    "\n",
    "https://docs.python.org/3/howto/sorting.html\n",
    "\n",
    "https://xspdf.com/resolution/58024290.html\n",
    "\n",
    "https://www.guru99.com/python-counter-collections-example.html"
   ]
  },
  {
   "cell_type": "markdown",
   "metadata": {},
   "source": [
    "#### END\n",
    "***"
   ]
  }
 ],
 "metadata": {
  "kernelspec": {
   "display_name": "Python 3",
   "language": "python",
   "name": "python3"
  },
  "language_info": {
   "codemirror_mode": {
    "name": "ipython",
    "version": 3
   },
   "file_extension": ".py",
   "mimetype": "text/x-python",
   "name": "python",
   "nbconvert_exporter": "python",
   "pygments_lexer": "ipython3",
   "version": "3.8.3"
  }
 },
 "nbformat": 4,
 "nbformat_minor": 4
}
